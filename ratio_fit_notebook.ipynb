{
 "cells": [
  {
   "cell_type": "code",
   "execution_count": 1,
   "metadata": {
    "collapsed": false
   },
   "outputs": [
    {
     "name": "stdout",
     "output_type": "stream",
     "text": [
      "C:\\Users\\Sebby\\Desktop\\TT_Analyse_Sebby\\Analysis_Sebby_March_2017\n"
     ]
    }
   ],
   "source": [
    "#Import modules\n",
    "import numpy as np\n",
    "import pandas as pd\n",
    "import os.path\n",
    "from pylab import *\n",
    "import glob\n",
    "import os\n",
    "import re\n",
    "from xlwt import Workbook\n",
    "from scipy.optimize import curve_fit\n",
    "\n",
    "\n",
    "\n",
    "from numpy import sqrt, pi, exp, linspace, loadtxt\n",
    "from lmfit import  Model, Parameter, Parameters\n",
    "import matplotlib.image as mpimg\n",
    "\n",
    "import matplotlib.pyplot as plt\n",
    "\n",
    "%matplotlib inline\n",
    "\n",
    "parentdir = os.getcwd()\n",
    "#os.chdir('20160910_CuAzu655Ferri_asc_2ndtime')\n",
    "os.chdir('..')\n",
    "print(parentdir)"
   ]
  },
  {
   "cell_type": "code",
   "execution_count": 5,
   "metadata": {
    "collapsed": false
   },
   "outputs": [
    {
     "ename": "RuntimeError",
     "evalue": "Optimal parameters not found: Number of calls to function has reached maxfev = 400.",
     "output_type": "error",
     "traceback": [
      "\u001b[0;31m---------------------------------------------------------------------------\u001b[0m",
      "\u001b[0;31mRuntimeError\u001b[0m                              Traceback (most recent call last)",
      "\u001b[0;32m<ipython-input-5-f51fb5960f47>\u001b[0m in \u001b[0;36m<module>\u001b[0;34m()\u001b[0m\n\u001b[1;32m     25\u001b[0m     \u001b[1;32mreturn\u001b[0m\u001b[1;33m(\u001b[0m\u001b[1;36m10\u001b[0m\u001b[1;33m**\u001b[0m\u001b[1;33m(\u001b[0m\u001b[1;33m(\u001b[0m\u001b[0mx\u001b[0m \u001b[1;33m-\u001b[0m \u001b[0ma\u001b[0m\u001b[1;33m)\u001b[0m \u001b[1;33m/\u001b[0m \u001b[1;36m0.059\u001b[0m\u001b[1;33m)\u001b[0m\u001b[1;33m)\u001b[0m\u001b[1;33m\u001b[0m\u001b[0m\n\u001b[1;32m     26\u001b[0m \u001b[1;33m\u001b[0m\u001b[0m\n\u001b[0;32m---> 27\u001b[0;31m \u001b[0mpopt_0\u001b[0m\u001b[1;33m,\u001b[0m \u001b[0mpcov_0\u001b[0m \u001b[1;33m=\u001b[0m \u001b[0mcurve_fit\u001b[0m\u001b[1;33m(\u001b[0m\u001b[0mnernst\u001b[0m\u001b[1;33m,\u001b[0m \u001b[0my_values_1\u001b[0m\u001b[1;33m,\u001b[0m \u001b[0mx_values_1\u001b[0m\u001b[1;33m,\u001b[0m \u001b[0mp0\u001b[0m \u001b[1;33m=\u001b[0m \u001b[1;36m20\u001b[0m\u001b[1;33m)\u001b[0m\u001b[1;33m\u001b[0m\u001b[0m\n\u001b[0m\u001b[1;32m     28\u001b[0m \u001b[0mplt\u001b[0m\u001b[1;33m.\u001b[0m\u001b[0mplot\u001b[0m\u001b[1;33m(\u001b[0m\u001b[0my_values_1\u001b[0m\u001b[1;33m,\u001b[0m \u001b[0mnernst\u001b[0m\u001b[1;33m(\u001b[0m\u001b[0my_values_1\u001b[0m\u001b[1;33m,\u001b[0m \u001b[1;33m*\u001b[0m\u001b[0mpopt_0\u001b[0m\u001b[1;33m)\u001b[0m\u001b[1;33m)\u001b[0m\u001b[1;33m\u001b[0m\u001b[0m\n",
      "\u001b[0;32mC:\\Users\\Sebby\\Anaconda3\\lib\\site-packages\\scipy\\optimize\\minpack.py\u001b[0m in \u001b[0;36mcurve_fit\u001b[0;34m(f, xdata, ydata, p0, sigma, absolute_sigma, check_finite, bounds, method, jac, **kwargs)\u001b[0m\n\u001b[1;32m    678\u001b[0m         \u001b[0mcost\u001b[0m \u001b[1;33m=\u001b[0m \u001b[0mnp\u001b[0m\u001b[1;33m.\u001b[0m\u001b[0msum\u001b[0m\u001b[1;33m(\u001b[0m\u001b[0minfodict\u001b[0m\u001b[1;33m[\u001b[0m\u001b[1;34m'fvec'\u001b[0m\u001b[1;33m]\u001b[0m \u001b[1;33m**\u001b[0m \u001b[1;36m2\u001b[0m\u001b[1;33m)\u001b[0m\u001b[1;33m\u001b[0m\u001b[0m\n\u001b[1;32m    679\u001b[0m         \u001b[1;32mif\u001b[0m \u001b[0mier\u001b[0m \u001b[1;32mnot\u001b[0m \u001b[1;32min\u001b[0m \u001b[1;33m[\u001b[0m\u001b[1;36m1\u001b[0m\u001b[1;33m,\u001b[0m \u001b[1;36m2\u001b[0m\u001b[1;33m,\u001b[0m \u001b[1;36m3\u001b[0m\u001b[1;33m,\u001b[0m \u001b[1;36m4\u001b[0m\u001b[1;33m]\u001b[0m\u001b[1;33m:\u001b[0m\u001b[1;33m\u001b[0m\u001b[0m\n\u001b[0;32m--> 680\u001b[0;31m             \u001b[1;32mraise\u001b[0m \u001b[0mRuntimeError\u001b[0m\u001b[1;33m(\u001b[0m\u001b[1;34m\"Optimal parameters not found: \"\u001b[0m \u001b[1;33m+\u001b[0m \u001b[0merrmsg\u001b[0m\u001b[1;33m)\u001b[0m\u001b[1;33m\u001b[0m\u001b[0m\n\u001b[0m\u001b[1;32m    681\u001b[0m     \u001b[1;32melse\u001b[0m\u001b[1;33m:\u001b[0m\u001b[1;33m\u001b[0m\u001b[0m\n\u001b[1;32m    682\u001b[0m         res = least_squares(func, p0, jac=jac, bounds=bounds, method=method,\n",
      "\u001b[0;31mRuntimeError\u001b[0m: Optimal parameters not found: Number of calls to function has reached maxfev = 400."
     ]
    },
    {
     "data": {
      "image/png": "[encoded data removed]",
      "text/plain": [
       "<matplotlib.figure.Figure at 0x134d290>"
      ]
     },
     "metadata": {},
     "output_type": "display_data"
    }
   ],
   "source": [
    "x_values_1 = [35, 40, 55, 60, 75, 90, 100, 20, 15, 0]\n",
    "y_values_1 = [3.693577095, 4.756142885, 8.088315283, 11.7992831, 25.87941695, 38.40539093, 59.8229956, 1.47109141201, 1.17677949254, 0.364174955903]\n",
    "x_values_1_off = [20, 15, 0]\n",
    "y_values_1_off = [2.50162474494, 1.25556344955, 2.52337904864]\n",
    "x_values_4 = [35, 40, 75, 90, 25, 20, 15, 0]\n",
    "y_values_4 = [2.228238474, 2.410962569, 13.65408759, 12.28531103, 0.617108496145, 0.820225054674, 0.556473863992, 0.898777527957]\n",
    "y_values_4_off = [2.32161728941, 2.73613331971, 1.11243360324, 1.55229673883]\n",
    "x_values_4_off = [25, 20, 15, 0]\n",
    "\n",
    "x_values_9 = [35, 40, 75, 90, 55, 60, 25, 20, 15, 0,]\n",
    "y_values_9 = [2.777092158, 2.282017116, 5.507954724, 15.15812899, 8.757343736, 6.571917544, 0.248604036874, 0.80317318797, 0.533590365358, 0.882593221689]\n",
    "y_values_9_off = [1.17135812595, 1.20119015175, 0.973990205535, 1.91894857204]\n",
    "x_values_9_off = [25, 20, 15, 0]\n",
    "\n",
    "fig = plt.figure()\n",
    "plt.yscale('log')\n",
    "plt.plot(x_values_1, y_values_1, 'o', color = 'b')\n",
    "plt.plot(x_values_1_off, y_values_1_off, 'o', color = 'r')\n",
    "plt.plot(x_values_4, y_values_4, 'x', color = 'b')\n",
    "plt.plot(x_values_4_off, y_values_4_off, 'x', color = 'r')\n",
    "plt.plot(x_values_9, y_values_9, 'g^', color = 'b')\n",
    "plt.plot(x_values_9_off, y_values_9_off, 'g^', color = 'r')\n",
    "\n",
    "def nernst(a, x):\n",
    "    return(10**((x - a) / 0.059))\n",
    "\n",
    "popt_0, pcov_0 = curve_fit(nernst, y_values_1, x_values_1, p0 = 20)\n",
    "plt.plot(y_values_1, nernst(y_values_1, *popt_0))\n"
   ]
  },
  {
   "cell_type": "code",
   "execution_count": null,
   "metadata": {
    "collapsed": true
   },
   "outputs": [],
   "source": []
  }
 ],
 "metadata": {
  "anaconda-cloud": {},
  "kernelspec": {
   "display_name": "Python [default]",
   "language": "python",
   "name": "python3"
  },
  "language_info": {
   "codemirror_mode": {
    "name": "ipython",
    "version": 3
   },
   "file_extension": ".py",
   "mimetype": "text/x-python",
   "name": "python",
   "nbconvert_exporter": "python",
   "pygments_lexer": "ipython3",
   "version": "3.5.2"
  }
 },
 "nbformat": 4,
 "nbformat_minor": 1
}
