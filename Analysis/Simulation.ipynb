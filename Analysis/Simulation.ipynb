{
 "cells": [
  {
   "cell_type": "code",
   "execution_count": 1,
   "metadata": {
    "ExecuteTime": {
     "end_time": "2017-06-08T21:22:05.465497Z",
     "start_time": "2017-06-08T21:22:00.758985Z"
    },
    "code_folding": [
     0
    ],
    "collapsed": true
   },
   "outputs": [],
   "source": [
    "#Import modules #Run this once\n",
    "\n",
    "import numpy as np\n",
    "import pandas as pd\n",
    "import os.path\n",
    "from pylab import *\n",
    "import glob\n",
    "import os\n",
    "import re\n",
    "from xlwt import Workbook\n",
    "from scipy.optimize import curve_fit\n",
    "global pointnumber\n",
    "from numpy import sqrt, pi, exp, linspace, loadtxt\n",
    "from lmfit import  Model, Parameter, Parameters\n",
    "import matplotlib.pyplot as plt\n",
    "\n",
    "%matplotlib inline\n",
    "import warnings\n",
    "warnings.filterwarnings(\"ignore\")"
   ]
  },
  {
   "cell_type": "markdown",
   "metadata": {},
   "source": [
    "## rand_on_off_time"
   ]
  },
  {
   "cell_type": "code",
   "execution_count": 2,
   "metadata": {
    "ExecuteTime": {
     "end_time": "2017-06-08T21:22:07.547842Z",
     "start_time": "2017-06-08T21:22:07.521719Z"
    },
    "code_folding": [],
    "collapsed": false
   },
   "outputs": [],
   "source": [
    "def rand_on_off_times(ton=1, toff1=1, toff2=10, multiplier=100, numpoints=1000):\n",
    "    '''ton, toff1, toff2 are in millisecond\n",
    "    multiplier: time resolution\n",
    "    '''\n",
    "    #on times\n",
    "    on_rand_exp = np.random.exponential(ton*multiplier,numpoints);\n",
    "    on_rand_exp = np.round(on_rand_exp);\n",
    "    #off times\n",
    "    off_exp1 = np.random.exponential(toff1*multiplier,numpoints);\n",
    "    off_exp1 = np.round(off_exp1)\n",
    "    off_exp2 = np.random.exponential(toff2*multiplier,numpoints);\n",
    "    off_exp2 = np.round(off_exp2);\n",
    "    off_rand_exp = off_exp2;\n",
    "    off_rand_biexp = off_exp2 - off_exp1;\n",
    "    return on_rand_exp, off_rand_exp,off_rand_biexp"
   ]
  },
  {
   "cell_type": "code",
   "execution_count": 205,
   "metadata": {
    "ExecuteTime": {
     "end_time": "2017-06-07T22:43:25.142148Z",
     "start_time": "2017-06-07T22:43:25.131533Z"
    },
    "code_folding": [
     0
    ],
    "collapsed": false
   },
   "outputs": [],
   "source": [
    "on_rand_exp, off_rand_exp,off_rand_biexp = rand_on_off_times(ton=1, toff1=1, toff2=10,\n",
    "                                                             multiplier=100, numpoints=10000)\n",
    "# figure(figsize=(10, 8))\n",
    "# hist(off_rand_biexp - min(off_rand_biexp), bins=100);"
   ]
  },
  {
   "cell_type": "markdown",
   "metadata": {},
   "source": [
    "## trace_on_off"
   ]
  },
  {
   "cell_type": "code",
   "execution_count": 3,
   "metadata": {
    "ExecuteTime": {
     "end_time": "2017-06-08T21:22:15.639447Z",
     "start_time": "2017-06-08T21:22:15.590853Z"
    },
    "code_folding": [],
    "collapsed": true
   },
   "outputs": [],
   "source": [
    "def trace_on_off(ton=10, toff1=1, toff2=100, multiplier=1000, numpoints=100,\n",
    "                oncounts=2500, offcounts=200):\n",
    "    ''''''\n",
    "    on_rand_exp, off_rand_exp,off_rand_biexp = rand_on_off_times(ton=ton, toff1=toff1, toff2=toff2,\n",
    "                                                             multiplier=multiplier, numpoints=numpoints)\n",
    "    intensity = []\n",
    "    for i in range(len(off_rand_exp)):\n",
    "        #on-times\n",
    "        ran_on = randn(on_rand_exp[i])\n",
    "        intensity_on = oncounts * np.ones(on_rand_exp[i])\n",
    "        intensity_on = intensity_on + intensity_on *0.025*ran_on\n",
    "        intensity = np.concatenate((intensity, intensity_on), axis=0)\n",
    "        #off time\n",
    "        ran_off = 3 + randn(off_rand_exp[i])\n",
    "        intensity_off = offcounts * np.ones(off_rand_exp[i])\n",
    "        intensity_off = intensity_off + intensity_off*0.25*ran_off\n",
    "        intensity = np.concatenate((intensity, intensity_off), axis=0)\n",
    "    time = linspace(1, len(intensity), len(intensity))\n",
    "    return time, intensity"
   ]
  },
  {
   "cell_type": "markdown",
   "metadata": {},
   "source": [
    "### time trace plot"
   ]
  },
  {
   "cell_type": "code",
   "execution_count": 6,
   "metadata": {
    "ExecuteTime": {
     "end_time": "2017-06-08T21:23:20.647041Z",
     "start_time": "2017-06-08T21:23:19.748727Z"
    },
    "collapsed": false,
    "scrolled": false
   },
   "outputs": [
    {
     "data": {
      "text/plain": [
       "(0, 2894.6800280557463)"
      ]
     },
     "execution_count": 6,
     "metadata": {},
     "output_type": "execute_result"
    },
    {
     "data": {
      "image/png": "[encoded data removed]",
      "text/plain": [
       "<matplotlib.figure.Figure at 0x7f6f19480e10>"
      ]
     },
     "metadata": {},
     "output_type": "display_data"
    }
   ],
   "source": [
    "time, intensity = trace_on_off(ton=1, toff1=1, toff2=10, multiplier=1000, numpoints=100)\n",
    "figure(figsize=(10, 8))\n",
    "plot(time, intensity)\n",
    "xlim(0, 50000)\n",
    "ylim(0, None)"
   ]
  },
  {
   "cell_type": "markdown",
   "metadata": {},
   "source": [
    "## trace_on_off_blink"
   ]
  },
  {
   "cell_type": "code",
   "execution_count": 83,
   "metadata": {
    "ExecuteTime": {
     "end_time": "2017-06-08T23:23:39.037775Z",
     "start_time": "2017-06-08T23:23:38.944330Z"
    },
    "collapsed": true
   },
   "outputs": [],
   "source": [
    "def trace_on_off_blink(ton=10, toff1=1, toff2=100, ton_blink=1, toff_blink=0.1, toff_blink2=10,\n",
    "                       multiplier=1000, numpoints=100,oncounts=2500, offcounts=200):\n",
    "    ''''''\n",
    "    on_rand_exp, off_rand_exp,off_rand_biexp = rand_on_off_times(ton=ton, toff1=toff1, toff2=toff2,\n",
    "                                                             multiplier=multiplier, numpoints=numpoints)\n",
    "    intensity = []\n",
    "    for i in range(len(off_rand_exp)):\n",
    "        #on-times\n",
    "        ran_on = randn(on_rand_exp[i])\n",
    "        intensity_on = oncounts * np.ones(on_rand_exp[i])\n",
    "        \n",
    "        numofpoints= 10 #len(intensity_on)/()\n",
    "        on_rand_blink, off_rand_blink, off_rand_blinkbiexp = rand_on_off_times(ton=ton_blink, toff1=toff_blink, toff2=toff_blink2,\n",
    "                                                                     multiplier=multiplier, numpoints=numofpoints)\n",
    "        int_blink = []\n",
    "        for j in range(len(on_rand_blink)):\n",
    "            int_blink_on = oncounts * np.ones(on_rand_blink[j])#on times\n",
    "            ran_on_blink = randn(len(int_blink_on))\n",
    "            int_blink_on = int_blink_on + int_blink_on * ran_on_blink *0.025 #add noise\n",
    "            int_blink = np.concatenate((int_blink, int_blink_on), axis=0)\n",
    "            int_blink_off = offcounts * np.ones(off_rand_blink[j]) #off:devide my oncounts to make it 1\n",
    "            ran_off_blink = 3 + randn(len(int_blink_off))\n",
    "            int_blink_off = int_blink_off + int_blink_off*ran_off_blink*0.2 # 0.25 is 10 times 0.025\n",
    "            int_blink = np.concatenate((int_blink, int_blink_off), axis=0)\n",
    "        if len(intensity_on) < len(int_blink):\n",
    "            intensity_on[:] = int_blink[:len(intensity_on)]\n",
    "        else:\n",
    "            intensity_on[:len(int_blink)] = int_blink[:]\n",
    "            intensity_on = intensity[:len(int_blink)]\n",
    "        intensity_on = intensity_on #+ intensity_on *0.025*ran_on\n",
    "        intensity = np.concatenate((intensity, intensity_on), axis=0)\n",
    "        #off time\n",
    "        ran_off = 3 + randn(off_rand_exp[i])\n",
    "        intensity_off = offcounts * np.ones(off_rand_exp[i])\n",
    "        intensity_off = intensity_off + intensity_off*0.2*ran_off\n",
    "        intensity = np.concatenate((intensity, intensity_off), axis=0)\n",
    "    time = linspace(1, len(intensity), len(intensity))\n",
    "    return time, intensity"
   ]
  },
  {
   "cell_type": "markdown",
   "metadata": {},
   "source": [
    "### time trace plot"
   ]
  },
  {
   "cell_type": "code",
   "execution_count": 92,
   "metadata": {
    "ExecuteTime": {
     "end_time": "2017-06-08T23:25:33.938327Z",
     "start_time": "2017-06-08T23:25:31.852423Z"
    },
    "collapsed": false,
    "scrolled": false
   },
   "outputs": [
    {
     "data": {
      "text/plain": [
       "(0, 2891.5726398628144)"
      ]
     },
     "execution_count": 92,
     "metadata": {},
     "output_type": "execute_result"
    },
    {
     "data": {
      "image/png": "[encoded data removed]",
      "text/plain": [
       "<matplotlib.figure.Figure at 0x7f6f18c6c6d8>"
      ]
     },
     "metadata": {},
     "output_type": "display_data"
    }
   ],
   "source": [
    "time, intensity = trace_on_off_blink(ton=100, toff1=1, toff2=50, ton_blink=1, toff_blink=0.1, toff_blink2=10,\n",
    "                       multiplier=1000, numpoints=20,oncounts=2500, offcounts=200)\n",
    "figure(figsize=(10, 8))\n",
    "plot(time, intensity)\n",
    "xlim(0, None)\n",
    "ylim(0, None)"
   ]
  },
  {
   "cell_type": "code",
   "execution_count": null,
   "metadata": {
    "collapsed": true
   },
   "outputs": [],
   "source": []
  }
 ],
 "metadata": {
  "kernelspec": {
   "display_name": "Python 3",
   "language": "python",
   "name": "python3"
  },
  "language_info": {
   "codemirror_mode": {
    "name": "ipython",
    "version": 3
   },
   "file_extension": ".py",
   "mimetype": "text/x-python",
   "name": "python",
   "nbconvert_exporter": "python",
   "pygments_lexer": "ipython3",
   "version": "3.6.0"
  },
  "toc": {
   "colors": {
    "hover_highlight": "#DAA520",
    "navigate_num": "#000000",
    "navigate_text": "#333333",
    "running_highlight": "#FF0000",
    "selected_highlight": "#FFD700",
    "sidebar_border": "#EEEEEE",
    "wrapper_background": "#FFFFFF"
   },
   "moveMenuLeft": true,
   "nav_menu": {
    "height": "12px",
    "width": "252px"
   },
   "navigate_menu": true,
   "number_sections": true,
   "sideBar": true,
   "threshold": 4,
   "toc_cell": false,
   "toc_section_display": "block",
   "toc_window_display": true,
   "widenNotebook": false
  }
 },
 "nbformat": 4,
 "nbformat_minor": 2
}
