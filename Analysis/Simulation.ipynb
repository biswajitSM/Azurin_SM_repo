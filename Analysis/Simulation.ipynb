{
 "cells": [
  {
   "cell_type": "code",
   "execution_count": 1,
   "metadata": {
    "ExecuteTime": {
     "end_time": "2017-06-07T21:33:34.023978Z",
     "start_time": "2017-06-07T21:33:33.065299Z"
    },
    "code_folding": [
     0
    ],
    "collapsed": true
   },
   "outputs": [],
   "source": [
    "#Import modules #Run this once\n",
    "\n",
    "import numpy as np\n",
    "import pandas as pd\n",
    "import os.path\n",
    "from pylab import *\n",
    "import glob\n",
    "import os\n",
    "import re\n",
    "from xlwt import Workbook\n",
    "from scipy.optimize import curve_fit\n",
    "global pointnumber\n",
    "from numpy import sqrt, pi, exp, linspace, loadtxt\n",
    "from lmfit import  Model, Parameter, Parameters\n",
    "import matplotlib.pyplot as plt\n",
    "\n",
    "%matplotlib inline"
   ]
  },
  {
   "cell_type": "code",
   "execution_count": 204,
   "metadata": {
    "ExecuteTime": {
     "end_time": "2017-06-07T22:43:24.129638Z",
     "start_time": "2017-06-07T22:43:24.107268Z"
    },
    "code_folding": [],
    "collapsed": false
   },
   "outputs": [],
   "source": [
    "def rand_on_off_times(ton=1, toff1=1, toff2=10, multiplier=100, numpoints=1000):\n",
    "    '''ton, toff1, toff2 are in millisecond\n",
    "    multiplier: time resolution\n",
    "    '''\n",
    "    #on times\n",
    "    on_rand_exp = np.random.exponential(ton*multiplier,numpoints);\n",
    "    on_rand_exp = np.round(on_rand_exp);\n",
    "    #off times\n",
    "    off_exp1 = np.random.exponential(toff1*multiplier,numpoints);\n",
    "    off_exp1 = np.round(off_exp1)\n",
    "    off_exp2 = np.random.exponential(toff2*multiplier,numpoints);\n",
    "    off_exp2 = np.round(off_exp2);\n",
    "    off_rand_exp = off_exp2;\n",
    "    off_rand_biexp = off_exp2 - off_exp1;\n",
    "    return on_rand_exp, off_rand_exp,off_rand_biexp"
   ]
  },
  {
   "cell_type": "code",
   "execution_count": 205,
   "metadata": {
    "ExecuteTime": {
     "end_time": "2017-06-07T22:43:25.142148Z",
     "start_time": "2017-06-07T22:43:25.131533Z"
    },
    "code_folding": [
     0
    ],
    "collapsed": false
   },
   "outputs": [],
   "source": [
    "on_rand_exp, off_rand_exp,off_rand_biexp = rand_on_off_times(ton=1, toff1=1, toff2=10,\n",
    "                                                             multiplier=100, numpoints=10000)\n",
    "# figure(figsize=(10, 8))\n",
    "# hist(off_rand_biexp - min(off_rand_biexp), bins=100);"
   ]
  },
  {
   "cell_type": "code",
   "execution_count": 206,
   "metadata": {
    "ExecuteTime": {
     "end_time": "2017-06-07T22:43:26.316980Z",
     "start_time": "2017-06-07T22:43:26.281901Z"
    },
    "code_folding": [],
    "collapsed": true
   },
   "outputs": [],
   "source": [
    "def trace_on_off(ton=10, toff1=1, toff2=100, multiplier=100, numpoints=100,\n",
    "                oncounts=2500, offcounts=200):\n",
    "    ''''''\n",
    "    on_rand_exp, off_rand_exp,off_rand_biexp = rand_on_off_times(ton=ton, toff1=toff1, toff2=toff2,\n",
    "                                                             multiplier=multiplier, numpoints=numpoints)\n",
    "    intensity = []\n",
    "    for i in range(len(off_rand_exp)):\n",
    "        #on-times\n",
    "        ran_on = randn(on_rand_exp[i])\n",
    "        intensity_on = oncounts * np.ones(on_rand_exp[i])\n",
    "        intensity_on = intensity_on + intensity_on *0.025*ran_on\n",
    "        intensity = np.concatenate((intensity, intensity_on), axis=0)\n",
    "        #off time\n",
    "        ran_off = 3 + randn(off_rand_exp[i])\n",
    "        intensity_off = offcounts * np.ones(off_rand_exp[i])\n",
    "        intensity_off = intensity_off + intensity_off*0.25*ran_off\n",
    "        intensity = np.concatenate((intensity, intensity_off), axis=0)\n",
    "    time = linspace(1, len(intensity), len(intensity))\n",
    "    return time, intensity"
   ]
  },
  {
   "cell_type": "code",
   "execution_count": 209,
   "metadata": {
    "ExecuteTime": {
     "end_time": "2017-06-07T22:44:20.971466Z",
     "start_time": "2017-06-07T22:44:19.881891Z"
    },
    "collapsed": false,
    "scrolled": false
   },
   "outputs": [
    {
     "data": {
      "text/plain": [
       "(0, 2930.5457364739177)"
      ]
     },
     "execution_count": 209,
     "metadata": {},
     "output_type": "execute_result"
    },
    {
     "data": {
      "image/png": "[encoded data removed]",
      "text/plain": [
       "<matplotlib.figure.Figure at 0x7f4d1e539390>"
      ]
     },
     "metadata": {},
     "output_type": "display_data"
    }
   ],
   "source": [
    "time, intensity = trace_on_off(ton=100, toff1=1, toff2=100, multiplier=100, numpoints=100)\n",
    "figure(figsize=(10, 8))\n",
    "plot(time, intensity)\n",
    "xlim(0, 50000)\n",
    "ylim(0, None)"
   ]
  },
  {
   "cell_type": "code",
   "execution_count": 53,
   "metadata": {
    "ExecuteTime": {
     "end_time": "2017-06-07T22:27:07.839807Z",
     "start_time": "2017-06-07T22:27:07.830857Z"
    },
    "collapsed": true
   },
   "outputs": [],
   "source": [
    "import warnings\n",
    "warnings.filterwarnings(\"ignore\")"
   ]
  },
  {
   "cell_type": "code",
   "execution_count": null,
   "metadata": {
    "collapsed": true
   },
   "outputs": [],
   "source": []
  }
 ],
 "metadata": {
  "kernelspec": {
   "display_name": "Python 3",
   "language": "python",
   "name": "python3"
  },
  "language_info": {
   "codemirror_mode": {
    "name": "ipython",
    "version": 3
   },
   "file_extension": ".py",
   "mimetype": "text/x-python",
   "name": "python",
   "nbconvert_exporter": "python",
   "pygments_lexer": "ipython3",
   "version": "3.6.0"
  },
  "toc": {
   "colors": {
    "hover_highlight": "#DAA520",
    "navigate_num": "#000000",
    "navigate_text": "#333333",
    "running_highlight": "#FF0000",
    "selected_highlight": "#FFD700",
    "sidebar_border": "#EEEEEE",
    "wrapper_background": "#FFFFFF"
   },
   "moveMenuLeft": true,
   "nav_menu": {
    "height": "12px",
    "width": "252px"
   },
   "navigate_menu": true,
   "number_sections": true,
   "sideBar": true,
   "threshold": 4,
   "toc_cell": false,
   "toc_section_display": "block",
   "toc_window_display": false,
   "widenNotebook": false
  }
 },
 "nbformat": 4,
 "nbformat_minor": 2
}
