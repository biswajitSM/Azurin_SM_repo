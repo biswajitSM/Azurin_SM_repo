{
 "cells": [
  {
   "cell_type": "code",
   "execution_count": 2,
   "metadata": {
    "collapsed": false
   },
   "outputs": [
    {
     "name": "stdout",
     "output_type": "stream",
     "text": [
      "C:\\Users\\Sebby\\Desktop\\TT_Analyse_Sebby\\Analysis_Sebby_March_2017\n"
     ]
    }
   ],
   "source": [
    "#Import modules\n",
    "import numpy as np\n",
    "import pandas as pd\n",
    "import os.path\n",
    "from pylab import *\n",
    "import glob\n",
    "import os\n",
    "import re\n",
    "from xlwt import Workbook\n",
    "from scipy.optimize import curve_fit\n",
    "\n",
    "\n",
    "\n",
    "from numpy import sqrt, pi, exp, linspace, loadtxt\n",
    "from lmfit import  Model, Parameter, Parameters\n",
    "import matplotlib.image as mpimg\n",
    "\n",
    "import matplotlib.pyplot as plt\n",
    "\n",
    "%matplotlib inline\n",
    "\n",
    "parentdir = os.getcwd()\n",
    "#os.chdir('20160910_CuAzu655Ferri_asc_2ndtime')\n",
    "os.chdir('..')\n",
    "print(parentdir)"
   ]
  },
  {
   "cell_type": "code",
   "execution_count": 79,
   "metadata": {
    "collapsed": false,
    "scrolled": true
   },
   "outputs": [
    {
     "name": "stdout",
     "output_type": "stream",
     "text": [
      "[-0.01  0.    0.01  0.02  0.03  0.04  0.05  0.06  0.07  0.08  0.09  0.1\n",
      "  0.11]\n",
      "[  0.61248065   0.90486523   1.33682766   1.97499931   2.91781985\n",
      "   4.31072184   6.36856412   9.4087743   13.90031289  20.53601163\n",
      "  30.33944466  44.82281753  66.22022895]\n"
     ]
    },
    {
     "data": {
      "image/png": "[encoded data removed]",
      "text/plain": [
       "<matplotlib.figure.Figure at 0x14571f30>"
      ]
     },
     "metadata": {},
     "output_type": "display_data"
    }
   ],
   "source": [
    "x_values_1 = [0.035, 0.040, 0.055, 0.060, 0.075, 0.090, 0.100, 0.020, 0.015, 0]\n",
    "y_values_1 = [3.693577095, 4.756142885, 8.088315283, 11.7992831, 25.87941695, 38.40539093, 59.8229956, 1.47109141201, 1.17677949254, 0.364174955903]\n",
    "x_values_1_off = [0.020, 0.015, 0]\n",
    "y_values_1_off = [2.50162474494, 1.25556344955, 2.52337904864]\n",
    "x_values_4 = [0.035, 0.040, 0.075, 0.090, 0.025, 0.020, 0.015, 0]\n",
    "y_values_4 = [2.228238474, 2.410962569, 13.65408759, 12.28531103, 0.617108496145, 0.820225054674, 0.556473863992, 0.898777527957]\n",
    "y_values_4_off = [2.32161728941, 2.73613331971, 1.11243360324, 1.55229673883]\n",
    "x_values_4_off = [0.025, 0.020, 0.015, 0]\n",
    "\n",
    "x_values_9 = [0.035, 0.040, 0.075, 0.090, 0.055, 0.060, 0.025, 0.020, 0.015, 0,]\n",
    "y_values_9 = [2.777092158, 2.282017116, 5.507954724, 15.15812899, 8.757343736, 6.571917544, 0.248604036874, 0.80317318797, 0.533590365358, 0.882593221689]\n",
    "y_values_9_off = [1.17135812595, 1.20119015175, 0.973990205535, 1.91894857204]\n",
    "x_values_9_off = [0.025, 0.020, 0.015, 0]\n",
    "\n",
    "def nernst(x, a):\n",
    "    return(10**((x - a) / 0.059))\n",
    "\n",
    "def nernst_1(x):\n",
    "    return(10**((x - 0.00256155) / 0.059))\n",
    "potentie_array = np.arange(-0.01, 0.120, 0.010)\n",
    "print(potentie_array)\n",
    "fig = plt.figure()\n",
    "plt.yscale('log')\n",
    "xlim(-0.01,0.11)\n",
    "plt.plot(x_values_1, y_values_1, 'o', color = 'b')\n",
    "#plt.plot(x_values_1_off, y_values_1_off, 'o', color = 'r')\n",
    "plt.plot(x_values_4, y_values_4, 'o', color = 'r')\n",
    "#plt.plot(x_values_4_off, y_values_4_off, 'x', color = 'r')\n",
    "plt.plot(x_values_9, y_values_9, 'o', color = 'y')\n",
    "#plt.plot(x_values_9_off, y_values_9_off, 'g^', color = 'r')\n",
    "#plt.plot(potentie_array, av_fit(*potentie_array), color = 'b')\n",
    "plt.plot(potentie_array, nernst_1(potentie_array), 'g--', color = 'k')\n",
    "plt.xlabel('potential(mV)', fontsize = 15)\n",
    "plt.ylabel(r'$\\bar{\\tau}_{off}\\bar{\\tau}_{on}^{-1}$', fontsize = 15)\n",
    "print(nernst_1(potentie_array))\n",
    "#plt.plot(x_values_1, nernst(x_values_1, *popt_0))\n",
    "#plt.plot(x_values_4, nernst(x_values_4, *popt_4))\n",
    "#plt.plot(x_values_9, nernst(x_values_9, *popt_9))\n",
    "savefig('t_ratio_plot.png', dpi = 500, transparent = True)\n"
   ]
  },
  {
   "cell_type": "code",
   "execution_count": 16,
   "metadata": {
    "collapsed": false
   },
   "outputs": [
    {
     "ename": "SyntaxError",
     "evalue": "keyword can't be an expression (<ipython-input-16-975ae6134628>, line 5)",
     "output_type": "error",
     "traceback": [
      "\u001b[0;36m  File \u001b[0;32m\"<ipython-input-16-975ae6134628>\"\u001b[0;36m, line \u001b[0;32m5\u001b[0m\n\u001b[0;31m    solve( x**2 - 1 = 1, x )\u001b[0m\n\u001b[0m          ^\u001b[0m\n\u001b[0;31mSyntaxError\u001b[0m\u001b[0;31m:\u001b[0m keyword can't be an expression\n"
     ]
    }
   ],
   "source": [
    "from sympy.solvers import solve\n",
    "from sympy import Symbol\n",
    "\n",
    "x = Symbol('x')\n"
   ]
  },
  {
   "cell_type": "code",
   "execution_count": null,
   "metadata": {
    "collapsed": true
   },
   "outputs": [],
   "source": []
  }
 ],
 "metadata": {
  "anaconda-cloud": {},
  "kernelspec": {
   "display_name": "Python [default]",
   "language": "python",
   "name": "python3"
  },
  "language_info": {
   "codemirror_mode": {
    "name": "ipython",
    "version": 3
   },
   "file_extension": ".py",
   "mimetype": "text/x-python",
   "name": "python",
   "nbconvert_exporter": "python",
   "pygments_lexer": "ipython3",
   "version": "3.5.2"
  }
 },
 "nbformat": 4,
 "nbformat_minor": 1
}
