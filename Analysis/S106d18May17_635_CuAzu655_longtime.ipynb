{
 "cells": [
  {
   "cell_type": "code",
   "execution_count": 1,
   "metadata": {
    "ExecuteTime": {
     "end_time": "2017-07-01T12:01:30.541298Z",
     "start_time": "2017-07-01T12:01:30.516502Z"
    },
    "code_folding": [
     0
    ],
    "collapsed": false
   },
   "outputs": [
    {
     "name": "stdout",
     "output_type": "stream",
     "text": [
      "The working directory is parentdir: /home/biswajit/Research/Reports_ppt/reports/AzurinSM-MS4/Azurin_SM_repo/Analysis\n",
      "The data directory is homedir: /home/biswajit/Research/Reports_ppt/reports/AzurinSM-MS4/data/S106d18May17_635_CuAzu655_longtime\n"
     ]
    }
   ],
   "source": [
    "#directories\n",
    "import os\n",
    "try:\n",
    "    parentdir\n",
    "except NameError:\n",
    "    parentdir=os.getcwd()\n",
    "else:\n",
    "    parentdir = parentdir\n",
    "homedir=r'/home/biswajit/Research/Reports_ppt/reports/AzurinSM-MS4/data/S106d18May17_635_CuAzu655_longtime';#data directory\n",
    "print('The working directory is parentdir: %s' %parentdir)\n",
    "print('The data directory is homedir: %s' %homedir)"
   ]
  },
  {
   "cell_type": "code",
   "execution_count": 2,
   "metadata": {
    "ExecuteTime": {
     "end_time": "2017-07-01T12:01:43.795264Z",
     "start_time": "2017-07-01T12:01:41.673105Z"
    },
    "code_folding": [
     0
    ],
    "collapsed": true
   },
   "outputs": [],
   "source": [
    "#Run this once to run the .py file.\n",
    "os.chdir(parentdir)\n",
    "!python Analysis_bis.py\n",
    "%run Analysis_bis.py\n",
    "%matplotlib inline\n",
    "import warnings\n",
    "warnings.filterwarnings(\"ignore\")"
   ]
  },
  {
   "cell_type": "code",
   "execution_count": 3,
   "metadata": {
    "ExecuteTime": {
     "end_time": "2017-07-01T12:02:40.075446Z",
     "start_time": "2017-07-01T12:02:40.061252Z"
    },
    "collapsed": true
   },
   "outputs": [],
   "source": [
    "mpl.rcParams[\"font.family\"] = \"sans-serif\"\n",
    "mpl.rcParams[\"font.size\"] = \"14\""
   ]
  },
  {
   "cell_type": "code",
   "execution_count": 4,
   "metadata": {
    "ExecuteTime": {
     "end_time": "2017-07-01T12:02:50.961635Z",
     "start_time": "2017-07-01T12:02:50.951686Z"
    },
    "collapsed": true
   },
   "outputs": [],
   "source": [
    "pd.set_option('display.max_columns', 500)"
   ]
  },
  {
   "cell_type": "markdown",
   "metadata": {},
   "source": [
    "## List of points"
   ]
  },
  {
   "cell_type": "code",
   "execution_count": 8,
   "metadata": {
    "ExecuteTime": {
     "end_time": "2017-07-01T12:08:37.253155Z",
     "start_time": "2017-07-01T12:08:36.936789Z"
    },
    "collapsed": false
   },
   "outputs": [
    {
     "name": "stdout",
     "output_type": "stream",
     "text": [
      "Point number in Point_A7_075mV(12)_60.5_360s_16_Dif.pt3 is not properly placed(found): \n",
      "potential value in Point_A7_075mV(12)_60.5_360s_16_Dif.pt3 is not properly defined\n"
     ]
    },
    {
     "data": {
      "text/html": [
       "<div>\n",
       "<table border=\"1\" class=\"dataframe\">\n",
       "  <thead>\n",
       "    <tr style=\"text-align: right;\">\n",
       "      <th></th>\n",
       "      <th>Point_1</th>\n",
       "      <th>Point_2</th>\n",
       "      <th>Point_3</th>\n",
       "      <th>Point_6</th>\n",
       "      <th>Point_7</th>\n",
       "      <th>Point_8</th>\n",
       "      <th>Point_9</th>\n",
       "      <th>Point_10</th>\n",
       "      <th>Point_11</th>\n",
       "      <th>Point_12</th>\n",
       "      <th>Point_13</th>\n",
       "      <th>Point_14</th>\n",
       "      <th>Point_15</th>\n",
       "      <th>Point_17</th>\n",
       "      <th>Point_18</th>\n",
       "      <th>Point_19</th>\n",
       "      <th>Point_20</th>\n",
       "      <th>Point_21</th>\n",
       "      <th>Point_22</th>\n",
       "      <th>Point_23</th>\n",
       "      <th>Point_24</th>\n",
       "      <th>Point_25</th>\n",
       "      <th>Point_26</th>\n",
       "      <th>Point_27</th>\n",
       "      <th>Point_28</th>\n",
       "    </tr>\n",
       "  </thead>\n",
       "  <tbody>\n",
       "    <tr>\n",
       "      <th>0</th>\n",
       "      <td>25.0</td>\n",
       "      <td>25.0</td>\n",
       "      <td>25.0</td>\n",
       "      <td>25.0</td>\n",
       "      <td>0.0</td>\n",
       "      <td>0.0</td>\n",
       "      <td>0.0</td>\n",
       "      <td>0.0</td>\n",
       "      <td>0.0</td>\n",
       "      <td>75.0</td>\n",
       "      <td>75.0</td>\n",
       "      <td>75.0</td>\n",
       "      <td>75.0</td>\n",
       "      <td>75.0</td>\n",
       "      <td>75.0</td>\n",
       "      <td>50.0</td>\n",
       "      <td>50.0</td>\n",
       "      <td>50.0</td>\n",
       "      <td>50.0</td>\n",
       "      <td>50.0</td>\n",
       "      <td>100.0</td>\n",
       "      <td>100.0</td>\n",
       "      <td>100.0</td>\n",
       "      <td>100.0</td>\n",
       "      <td>100.0</td>\n",
       "    </tr>\n",
       "  </tbody>\n",
       "</table>\n",
       "</div>"
      ],
      "text/plain": [
       "   Point_1  Point_2  Point_3  Point_6  Point_7  Point_8  Point_9  Point_10  \\\n",
       "0     25.0     25.0     25.0     25.0      0.0      0.0      0.0       0.0   \n",
       "\n",
       "   Point_11  Point_12  Point_13  Point_14  Point_15  Point_17  Point_18  \\\n",
       "0       0.0      75.0      75.0      75.0      75.0      75.0      75.0   \n",
       "\n",
       "   Point_19  Point_20  Point_21  Point_22  Point_23  Point_24  Point_25  \\\n",
       "0      50.0      50.0      50.0      50.0      50.0     100.0     100.0   \n",
       "\n",
       "   Point_26  Point_27  Point_28  \n",
       "0     100.0     100.0     100.0  "
      ]
     },
     "execution_count": 8,
     "metadata": {},
     "output_type": "execute_result"
    }
   ],
   "source": [
    "point_list(foldername=homedir)"
   ]
  },
  {
   "cell_type": "markdown",
   "metadata": {},
   "source": [
    "## Time trace plot"
   ]
  },
  {
   "cell_type": "code",
   "execution_count": 9,
   "metadata": {
    "ExecuteTime": {
     "end_time": "2017-07-01T12:09:23.128755Z",
     "start_time": "2017-07-01T12:09:22.395317Z"
    },
    "collapsed": false
   },
   "outputs": [
    {
     "name": "stdout",
     "output_type": "stream",
     "text": [
      "Point number in Point_A7_075mV(12)_60.5_360s_16_Dif.pt3 is not properly placed(found): \n",
      "potential value in Point_A7_075mV(12)_60.5_360s_16_Dif.pt3 is not properly defined\n"
     ]
    },
    {
     "data": {
      "image/png": "[encoded data removed]",
      "text/plain": [
       "<matplotlib.figure.Figure at 0x7f3dd53c7048>"
      ]
     },
     "metadata": {},
     "output_type": "display_data"
    }
   ],
   "source": [
    "fig = time_trace_plot(foldername= homedir, input_potential=[75], pointnumbers=[13],\n",
    "                      x_lim_min=0, y_lim_min=0, x_lim_max=10, y_lim_max=10, bin=2, show_changepoint=True)"
   ]
  },
  {
   "cell_type": "markdown",
   "metadata": {},
   "source": [
    "## On-off histogram: 1D"
   ]
  },
  {
   "cell_type": "markdown",
   "metadata": {},
   "source": [
    "### 100 mV"
   ]
  },
  {
   "cell_type": "markdown",
   "metadata": {},
   "source": [
    "#### Point_26: 1600 s"
   ]
  },
  {
   "cell_type": "code",
   "execution_count": 18,
   "metadata": {
    "ExecuteTime": {
     "end_time": "2017-07-01T12:14:03.080536Z",
     "start_time": "2017-07-01T12:14:02.020406Z"
    },
    "collapsed": false
   },
   "outputs": [
    {
     "name": "stdout",
     "output_type": "stream",
     "text": [
      "Point number in Point_A7_075mV(12)_60.5_360s_16_Dif.pt3 is not properly placed(found): \n",
      "potential value in Point_A7_075mV(12)_60.5_360s_16_Dif.pt3 is not properly defined\n"
     ]
    },
    {
     "data": {
      "image/png": "[encoded data removed]",
      "text/plain": [
       "<matplotlib.figure.Figure at 0x7f3dd1422780>"
      ]
     },
     "metadata": {},
     "output_type": "display_data"
    }
   ],
   "source": [
    "homedir=r'/home/biswajit/Research/Reports_ppt/reports/AzurinSM-MS4/data/S106d18May17_635_CuAzu655_longtime';#data directory\n",
    "t_ons, t_offs = histogram_on_off_1mol(foldername= homedir, input_potential=[100], pointnumbers=[26], bins_on=60, range_on=[0, 0.02], bins_off=100, range_off=[0, 1], plotting=True)"
   ]
  },
  {
   "cell_type": "markdown",
   "metadata": {},
   "source": [
    "### 75 mV"
   ]
  },
  {
   "cell_type": "markdown",
   "metadata": {},
   "source": [
    "#### Point_13: 360 s"
   ]
  },
  {
   "cell_type": "code",
   "execution_count": 11,
   "metadata": {
    "ExecuteTime": {
     "end_time": "2017-07-01T12:11:41.212876Z",
     "start_time": "2017-07-01T12:11:40.420051Z"
    },
    "collapsed": false
   },
   "outputs": [
    {
     "name": "stdout",
     "output_type": "stream",
     "text": [
      "Point number in Point_A7_075mV(12)_60.5_360s_16_Dif.pt3 is not properly placed(found): \n",
      "potential value in Point_A7_075mV(12)_60.5_360s_16_Dif.pt3 is not properly defined\n"
     ]
    },
    {
     "data": {
      "image/png": "[encoded data removed]",
      "text/plain": [
       "<matplotlib.figure.Figure at 0x7f3dd15eaeb8>"
      ]
     },
     "metadata": {},
     "output_type": "display_data"
    }
   ],
   "source": [
    "t_ons, t_offs = histogram_on_off_1mol(foldername= homedir, input_potential=[75], pointnumbers=[13], bins_on=40, range_on=[0, 0.02], bins_off=50, range_off=[0, 1], plotting=True)"
   ]
  },
  {
   "cell_type": "code",
   "execution_count": null,
   "metadata": {
    "collapsed": true
   },
   "outputs": [],
   "source": []
  }
 ],
 "metadata": {
  "kernelspec": {
   "display_name": "Python 3",
   "language": "python",
   "name": "python3"
  },
  "language_info": {
   "codemirror_mode": {
    "name": "ipython",
    "version": 3
   },
   "file_extension": ".py",
   "mimetype": "text/x-python",
   "name": "python",
   "nbconvert_exporter": "python",
   "pygments_lexer": "ipython3",
   "version": "3.6.0"
  },
  "toc": {
   "colors": {
    "hover_highlight": "#DAA520",
    "navigate_num": "#000000",
    "navigate_text": "#333333",
    "running_highlight": "#FF0000",
    "selected_highlight": "#FFD700",
    "sidebar_border": "#EEEEEE",
    "wrapper_background": "#FFFFFF"
   },
   "moveMenuLeft": true,
   "nav_menu": {
    "height": "138px",
    "width": "252px"
   },
   "navigate_menu": true,
   "number_sections": true,
   "sideBar": true,
   "threshold": 4,
   "toc_cell": false,
   "toc_section_display": "block",
   "toc_window_display": false,
   "widenNotebook": false
  }
 },
 "nbformat": 4,
 "nbformat_minor": 2
}
