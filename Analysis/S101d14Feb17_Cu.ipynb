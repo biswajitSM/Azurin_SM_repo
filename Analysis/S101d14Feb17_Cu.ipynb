{
 "cells": [
  {
   "cell_type": "markdown",
   "metadata": {},
   "source": [
    "## Import and directories"
   ]
  },
  {
   "cell_type": "code",
   "execution_count": 1,
   "metadata": {
    "ExecuteTime": {
     "end_time": "2017-06-16T18:52:49.730668Z",
     "start_time": "2017-06-16T18:52:49.704956Z"
    },
    "code_folding": [
     0
    ],
    "collapsed": false
   },
   "outputs": [
    {
     "name": "stdout",
     "output_type": "stream",
     "text": [
      "The working directory is parentdir: /home/biswajit/Research/Reports_ppt/reports/AzurinSM-MS4/Azurin_SM_repo/Analysis\n",
      "The data directory is homedir: /home/biswajit/Research/Reports_ppt/reports/AzurinSM-MS4/data/201702_S101toS104/S101d14Feb17_60.5_635_A2_CuAzu655\n"
     ]
    }
   ],
   "source": [
    "#directories\n",
    "import os\n",
    "try:\n",
    "    parentdir\n",
    "except NameError:\n",
    "    parentdir=os.getcwd()\n",
    "else:\n",
    "    parentdir = parentdir\n",
    "homedir=r'/home/biswajit/Research/Reports_ppt/reports/AzurinSM-MS4/data/201702_S101toS104/S101d14Feb17_60.5_635_A2_CuAzu655';#data directory\n",
    "print('The working directory is parentdir: %s' %parentdir)\n",
    "print('The data directory is homedir: %s' %homedir)"
   ]
  },
  {
   "cell_type": "code",
   "execution_count": 2,
   "metadata": {
    "ExecuteTime": {
     "end_time": "2017-06-16T18:52:52.103895Z",
     "start_time": "2017-06-16T18:52:51.508418Z"
    },
    "code_folding": [
     0
    ],
    "collapsed": true
   },
   "outputs": [],
   "source": [
    "#Import modules\n",
    "import os.path\n",
    "import glob\n",
    "import os\n",
    "import re\n",
    "from xlwt import Workbook\n",
    "\n",
    "import numpy as np\n",
    "import pandas as pd\n",
    "from scipy.optimize import curve_fit\n",
    "from numpy import sqrt, pi, exp, linspace, loadtxt\n",
    "\n",
    "from pylab import *\n",
    "import matplotlib.pyplot as plt\n",
    "%matplotlib inline\n",
    "import warnings\n",
    "warnings.filterwarnings(\"ignore\")"
   ]
  },
  {
   "cell_type": "markdown",
   "metadata": {},
   "source": [
    "## Figure Parameters"
   ]
  },
  {
   "cell_type": "code",
   "execution_count": 3,
   "metadata": {
    "ExecuteTime": {
     "end_time": "2017-06-16T18:52:53.402583Z",
     "start_time": "2017-06-16T18:52:53.390394Z"
    },
    "collapsed": true
   },
   "outputs": [],
   "source": [
    "mpl.rcParams[\"font.family\"] = \"sans-serif\"\n",
    "mpl.rcParams[\"font.size\"] = \"14\""
   ]
  },
  {
   "cell_type": "markdown",
   "metadata": {},
   "source": [
    "## Python .py run"
   ]
  },
  {
   "cell_type": "code",
   "execution_count": 5,
   "metadata": {
    "ExecuteTime": {
     "end_time": "2017-06-16T18:54:22.433116Z",
     "start_time": "2017-06-16T18:54:20.684409Z"
    },
    "code_folding": [],
    "collapsed": true
   },
   "outputs": [],
   "source": [
    "#Run this once to run the .py file.\n",
    "os.chdir(parentdir)\n",
    "!python Analysis_bis.py\n",
    "%run Analysis_bis.py"
   ]
  },
  {
   "cell_type": "markdown",
   "metadata": {},
   "source": [
    "## List of points"
   ]
  },
  {
   "cell_type": "markdown",
   "metadata": {},
   "source": [
    "### S101d14Feb17_60.5_635_A2_CuAzu655"
   ]
  },
  {
   "cell_type": "code",
   "execution_count": 10,
   "metadata": {
    "ExecuteTime": {
     "end_time": "2017-06-16T19:16:05.653033Z",
     "start_time": "2017-06-16T19:16:05.647511Z"
    },
    "collapsed": false
   },
   "outputs": [],
   "source": [
    "S101d14Feb17_A2_Cu = r'/home/biswajit/Research/Reports_ppt/reports/AzurinSM-MS4/data/201702_S101toS104/S104d20Feb17_60.5_635_A1_CuAzu655'\n",
    "# point_list(foldername=S101d14Feb17_A2_Cu)"
   ]
  },
  {
   "cell_type": "markdown",
   "metadata": {},
   "source": [
    "### S101d15Feb17_60.5_635_A2_CuAzu655"
   ]
  },
  {
   "cell_type": "code",
   "execution_count": 11,
   "metadata": {
    "ExecuteTime": {
     "end_time": "2017-06-16T19:16:09.051210Z",
     "start_time": "2017-06-16T19:16:09.047363Z"
    },
    "code_folding": [],
    "collapsed": false,
    "scrolled": false
   },
   "outputs": [],
   "source": [
    "S101d15Feb17_A2_Cu_15 = r'/home/biswajit/Research/Reports_ppt/reports/AzurinSM-MS4/data/201702_S101toS104/S101d15Feb17_60.5_635_A2_CuAzu655'\n",
    "# point_list(foldername=S101d15Feb17_A2_Cu_15)"
   ]
  },
  {
   "cell_type": "markdown",
   "metadata": {},
   "source": [
    "### S101d15Feb17_62.2_635_A2_CuAzu655_2nd"
   ]
  },
  {
   "cell_type": "code",
   "execution_count": 12,
   "metadata": {
    "ExecuteTime": {
     "end_time": "2017-06-16T19:16:12.294905Z",
     "start_time": "2017-06-16T19:16:12.285526Z"
    },
    "collapsed": false
   },
   "outputs": [],
   "source": [
    "S101d15Feb17_A2_15_2nd = r'/home/biswajit/Research/Reports_ppt/reports/AzurinSM-MS4/data/201702_S101toS104/S101d15Feb17_62.2_635_A2_CuAzu655_2nd'\n",
    "# point_list(S101d15Feb17_A2_15_2nd)"
   ]
  },
  {
   "cell_type": "markdown",
   "metadata": {},
   "source": [
    "### S101d16Feb17_60.5_635_A3_CuAzu655"
   ]
  },
  {
   "cell_type": "code",
   "execution_count": 13,
   "metadata": {
    "ExecuteTime": {
     "end_time": "2017-06-16T19:16:14.793188Z",
     "start_time": "2017-06-16T19:16:14.784891Z"
    },
    "collapsed": false
   },
   "outputs": [],
   "source": [
    "S101d16Feb17_A3_16 = r'/home/biswajit/Research/Reports_ppt/reports/AzurinSM-MS4/data/201702_S101toS104/S101d16Feb17_60.5_635_A3_CuAzu655'\n",
    "# point_list(S101d16Feb17_A3_16)"
   ]
  },
  {
   "cell_type": "markdown",
   "metadata": {},
   "source": [
    "### Check missing files"
   ]
  },
  {
   "cell_type": "code",
   "execution_count": 6,
   "metadata": {
    "ExecuteTime": {
     "end_time": "2017-06-16T15:21:41.415849Z",
     "start_time": "2017-06-16T15:21:39.927748Z"
    },
    "collapsed": false
   },
   "outputs": [],
   "source": [
    "check_missingFCSfiles(foldername=homedir)"
   ]
  },
  {
   "cell_type": "markdown",
   "metadata": {},
   "source": [
    "## Sebby's program"
   ]
  },
  {
   "cell_type": "code",
   "execution_count": null,
   "metadata": {
    "collapsed": true
   },
   "outputs": [],
   "source": [
    "os.chdir(parentdir)\n",
    "!python Analysis_CuAz_April2017.py\n",
    "%run Analysis_CuAz_April2017.py"
   ]
  },
  {
   "cell_type": "code",
   "execution_count": 4,
   "metadata": {
    "ExecuteTime": {
     "end_time": "2017-06-09T14:06:10.058890Z",
     "start_time": "2017-06-09T14:06:07.275356Z"
    },
    "code_folding": [
     0
    ],
    "collapsed": false,
    "scrolled": false
   },
   "outputs": [
    {
     "name": "stderr",
     "output_type": "stream",
     "text": [
      "/home/biswajit/anaconda3/lib/python3.6/site-packages/numpy/lib/function_base.py:804: RuntimeWarning: invalid value encountered in greater_equal\n",
      "  not_smaller_than_edge = (sample[:, i] >= edges[i][-1])\n"
     ]
    },
    {
     "data": {
      "image/png": "[encoded data removed]",
      "text/plain": [
       "<matplotlib.figure.Figure at 0x7f54a1929c50>"
      ]
     },
     "metadata": {},
     "output_type": "display_data"
    },
    {
     "data": {
      "image/png": "[encoded data removed]",
      "text/plain": [
       "<matplotlib.figure.Figure at 0x7f549e5aa898>"
      ]
     },
     "metadata": {},
     "output_type": "display_data"
    }
   ],
   "source": [
    "#*************Analysis for a specific potential********************\n",
    "\n",
    "titel = 'average_on_and_off_time_specific_mV_Cu.xls' #name excell output file\n",
    "pointnumbers = 31 #Change this to the minimal amount of points\n",
    "pot = 18 #number of potentials\n",
    "specific_potential = 50 #the specific potential you want the plots for\n",
    "onMax=0.25;offMax=1;\n",
    "rnge_on = [[0,onMax], [0,onMax]] #range on histograms, form: [[0,0.25], [0,0.25]] --> [xrange], [yrange]\n",
    "rnge_off = [[0,offMax], [0,offMax]] #range off histograms\n",
    "bins_on = 50  #bins for the on histograms\n",
    "bins_off = 100 #bins for the off histograms\n",
    "proteins = 'Cu' #change this to 'Zn' or 'Cu' depending on which files you are analysing. Changes title of plots.\n",
    "current_dir = homedir#'S101d14Feb17_60.5_635_A2_CuAzu655' #foldername you want to work in.\n",
    "max_his_on = onMax\n",
    "max_his_off = offMax\n",
    "x_shift = 10 # t vs  t + x_shift \n",
    "\n",
    "histograms(pot, pointnumbers, specific_potential, rnge_on, rnge_off, bins_on, bins_off, proteins, current_dir, max_his_on, max_his_off, x_shift, plots=True);"
   ]
  },
  {
   "cell_type": "markdown",
   "metadata": {
    "collapsed": true
   },
   "source": [
    "## Time trace plot"
   ]
  },
  {
   "cell_type": "code",
   "execution_count": 33,
   "metadata": {
    "ExecuteTime": {
     "end_time": "2017-06-16T15:44:01.007379Z",
     "start_time": "2017-06-16T15:43:59.190355Z"
    },
    "collapsed": false
   },
   "outputs": [
    {
     "data": {
      "image/png": "[encoded data removed]",
      "text/plain": [
       "<matplotlib.figure.Figure at 0x7f42f1317208>"
      ]
     },
     "metadata": {},
     "output_type": "display_data"
    }
   ],
   "source": [
    "# folderpath = r'D:\\Research\\Experimental\\Analysis\\2017analysis\\201702\\Analysis_Sebby_March_2017\\S101d14Feb17_60.5_635_A2_CuAzu655'\n",
    "fig = time_trace_plot(foldername= homedir, input_potential=[0, 25, 50, 100], pointnumbers=[19], x_lim_min=0, y_lim_min=0, x_lim_max=5, y_lim_max=10, bin=2, show_changepoint=True)"
   ]
  },
  {
   "cell_type": "markdown",
   "metadata": {},
   "source": [
    "## FCS plot"
   ]
  },
  {
   "cell_type": "markdown",
   "metadata": {},
   "source": [
    "### Aexp(-t/t_ac)"
   ]
  },
  {
   "cell_type": "code",
   "execution_count": 22,
   "metadata": {
    "ExecuteTime": {
     "end_time": "2017-06-16T15:32:02.007077Z",
     "start_time": "2017-06-16T15:32:00.075856Z"
    },
    "code_folding": [
     4
    ],
    "collapsed": false
   },
   "outputs": [
    {
     "data": {
      "text/plain": [
       "(5.6149517615976183, 11.135664739515827, 0.50423139461737732)"
      ]
     },
     "execution_count": 22,
     "metadata": {},
     "output_type": "execute_result"
    },
    {
     "data": {
      "image/png": "[encoded data removed]",
      "text/plain": [
       "<matplotlib.figure.Figure at 0x7f42f3896b00>"
      ]
     },
     "metadata": {},
     "output_type": "display_data"
    }
   ],
   "source": [
    "df_datn_em_specific, df_fcs_specific = get_point_specifics(foldername= homedir, input_potential=[90], pointnumbers=[1])\n",
    "df_fcs=df_fcs_specific['filepath[FCS]'][0]\n",
    "df_emplot = df_datn_em_specific['filepath[.em.plot]'][0]\n",
    "df_datn = df_datn_em_specific['filepath[.datn]'][0]\n",
    "def FCS_mono_fit(df_fcs,df_emplot, tmin=0.05,tmax=1000):\n",
    "    df_fcs = pd.read_csv(df_fcs, index_col=False, names=None, skiprows=1, header=None, sep='\\s+');\n",
    "    df_fcs = df_fcs[df_fcs[0]>=tmin];\n",
    "    df_fcs = df_fcs[df_fcs[0]<=tmax];\n",
    "    xdata=df_fcs[0];\n",
    "    ydata=df_fcs[1];\n",
    "    df_em = pd.read_csv(df_emplot, header=None, sep='\\t')#changepoint\n",
    "    S=max(df_em[1]);\n",
    "    Bkr=min(df_em[1]);\n",
    "    correction_BG = (S/(S+Bkr))**2\n",
    "    ydata= ((ydata)/correction_BG)\n",
    "    def mono_exp(x, A, t_ac, t_rise):\n",
    "        return A*exp(-x/t_ac)\n",
    "    gmodel = Model(mono_exp)\n",
    "    gmodel.set_param_hint('A', value=1, min=0.05, max=100)\n",
    "    gmodel.set_param_hint('t_ac', value=5, min=1, max=100)\n",
    "    gmodel.set_param_hint('t_rise', value=5, min=1, max=100)\n",
    "    pars = gmodel.make_params()\n",
    "    result = gmodel.fit(ydata, pars, x=xdata)#, A=1, B=1, t_ac=1\n",
    "    A = result.best_values['A']\n",
    "    t_ac = result.best_values['t_ac']\n",
    "    toff = t_ac*(1+A); ton = t_ac*(1+(1/A));\n",
    "    tratio_on_off = ton/toff\n",
    "    return(ton, toff, tratio_on_off, result)#, t_on_err, t_off_err\n",
    "ton, toff, tratio_on_off, result = FCS_mono_fit(df_fcs, df_emplot)\n",
    "result.plot()\n",
    "xscale('log')\n",
    "ton, toff, tratio_on_off"
   ]
  },
  {
   "cell_type": "markdown",
   "metadata": {},
   "source": [
    "## Time trace output folderwise"
   ]
  },
  {
   "cell_type": "code",
   "execution_count": 14,
   "metadata": {
    "ExecuteTime": {
     "end_time": "2017-06-16T19:16:48.370853Z",
     "start_time": "2017-06-16T19:16:40.564071Z"
    },
    "collapsed": false
   },
   "outputs": [
    {
     "data": {
      "text/html": [
       "<div>\n",
       "<table border=\"1\" class=\"dataframe\">\n",
       "  <thead>\n",
       "    <tr>\n",
       "      <th></th>\n",
       "      <th colspan=\"7\" halign=\"left\">Point_1</th>\n",
       "      <th colspan=\"3\" halign=\"left\">Point_2</th>\n",
       "      <th>...</th>\n",
       "      <th colspan=\"3\" halign=\"left\">Point_23</th>\n",
       "      <th colspan=\"7\" halign=\"left\">Point_24</th>\n",
       "    </tr>\n",
       "    <tr>\n",
       "      <th></th>\n",
       "      <th>Potential</th>\n",
       "      <th colspan=\"6\" halign=\"left\">t_ratio_timetrace</th>\n",
       "      <th>Potential</th>\n",
       "      <th colspan=\"2\" halign=\"left\">t_ratio_timetrace</th>\n",
       "      <th>...</th>\n",
       "      <th colspan=\"3\" halign=\"left\">t_ratio_timetrace</th>\n",
       "      <th>Potential</th>\n",
       "      <th colspan=\"6\" halign=\"left\">t_ratio_timetrace</th>\n",
       "    </tr>\n",
       "    <tr>\n",
       "      <th></th>\n",
       "      <th>Potential</th>\n",
       "      <th>t_onav</th>\n",
       "      <th>t_onaverr</th>\n",
       "      <th>t_offav</th>\n",
       "      <th>t_offaverr</th>\n",
       "      <th>t_ratio</th>\n",
       "      <th>t_ratioerr</th>\n",
       "      <th>Potential</th>\n",
       "      <th>t_onav</th>\n",
       "      <th>t_onaverr</th>\n",
       "      <th>...</th>\n",
       "      <th>t_offaverr</th>\n",
       "      <th>t_ratio</th>\n",
       "      <th>t_ratioerr</th>\n",
       "      <th>Potential</th>\n",
       "      <th>t_onav</th>\n",
       "      <th>t_onaverr</th>\n",
       "      <th>t_offav</th>\n",
       "      <th>t_offaverr</th>\n",
       "      <th>t_ratio</th>\n",
       "      <th>t_ratioerr</th>\n",
       "    </tr>\n",
       "  </thead>\n",
       "  <tbody>\n",
       "    <tr>\n",
       "      <th>0</th>\n",
       "      <td>0.0</td>\n",
       "      <td>41.73</td>\n",
       "      <td>11.41</td>\n",
       "      <td>48.38</td>\n",
       "      <td>13.30</td>\n",
       "      <td>0.862547</td>\n",
       "      <td>0.334435</td>\n",
       "      <td>0.0</td>\n",
       "      <td>19.51</td>\n",
       "      <td>3.74</td>\n",
       "      <td>...</td>\n",
       "      <td>113.86</td>\n",
       "      <td>0.605983</td>\n",
       "      <td>0.405892</td>\n",
       "      <td>50.0</td>\n",
       "      <td>88.24</td>\n",
       "      <td>36.57</td>\n",
       "      <td>221.16</td>\n",
       "      <td>92.70</td>\n",
       "      <td>0.398987</td>\n",
       "      <td>0.235182</td>\n",
       "    </tr>\n",
       "    <tr>\n",
       "      <th>1</th>\n",
       "      <td>20.0</td>\n",
       "      <td>40.39</td>\n",
       "      <td>10.71</td>\n",
       "      <td>73.25</td>\n",
       "      <td>19.52</td>\n",
       "      <td>0.551399</td>\n",
       "      <td>0.207290</td>\n",
       "      <td>20.0</td>\n",
       "      <td>32.59</td>\n",
       "      <td>7.18</td>\n",
       "      <td>...</td>\n",
       "      <td>742.76</td>\n",
       "      <td>0.950804</td>\n",
       "      <td>1.411024</td>\n",
       "      <td>75.0</td>\n",
       "      <td>84.03</td>\n",
       "      <td>58.51</td>\n",
       "      <td>649.74</td>\n",
       "      <td>467.23</td>\n",
       "      <td>0.129329</td>\n",
       "      <td>0.129454</td>\n",
       "    </tr>\n",
       "    <tr>\n",
       "      <th>2</th>\n",
       "      <td>25.0</td>\n",
       "      <td>47.14</td>\n",
       "      <td>12.96</td>\n",
       "      <td>94.02</td>\n",
       "      <td>25.97</td>\n",
       "      <td>0.501383</td>\n",
       "      <td>0.195398</td>\n",
       "      <td>25.0</td>\n",
       "      <td>18.75</td>\n",
       "      <td>4.92</td>\n",
       "      <td>...</td>\n",
       "      <td>272.43</td>\n",
       "      <td>1.019982</td>\n",
       "      <td>1.020960</td>\n",
       "      <td>100.0</td>\n",
       "      <td>32.77</td>\n",
       "      <td>22.82</td>\n",
       "      <td>762.59</td>\n",
       "      <td>548.38</td>\n",
       "      <td>0.042972</td>\n",
       "      <td>0.043016</td>\n",
       "    </tr>\n",
       "    <tr>\n",
       "      <th>3</th>\n",
       "      <td>40.0</td>\n",
       "      <td>25.59</td>\n",
       "      <td>7.23</td>\n",
       "      <td>124.62</td>\n",
       "      <td>35.40</td>\n",
       "      <td>0.205344</td>\n",
       "      <td>0.082270</td>\n",
       "      <td>40.0</td>\n",
       "      <td>71.20</td>\n",
       "      <td>38.14</td>\n",
       "      <td>...</td>\n",
       "      <td>601.30</td>\n",
       "      <td>0.347478</td>\n",
       "      <td>0.403713</td>\n",
       "      <td>NaN</td>\n",
       "      <td>NaN</td>\n",
       "      <td>NaN</td>\n",
       "      <td>NaN</td>\n",
       "      <td>NaN</td>\n",
       "      <td>NaN</td>\n",
       "      <td>NaN</td>\n",
       "    </tr>\n",
       "    <tr>\n",
       "      <th>4</th>\n",
       "      <td>50.0</td>\n",
       "      <td>35.75</td>\n",
       "      <td>10.38</td>\n",
       "      <td>122.49</td>\n",
       "      <td>35.75</td>\n",
       "      <td>0.291861</td>\n",
       "      <td>0.120155</td>\n",
       "      <td>50.0</td>\n",
       "      <td>21.82</td>\n",
       "      <td>5.72</td>\n",
       "      <td>...</td>\n",
       "      <td>570.96</td>\n",
       "      <td>0.234652</td>\n",
       "      <td>0.256465</td>\n",
       "      <td>NaN</td>\n",
       "      <td>NaN</td>\n",
       "      <td>NaN</td>\n",
       "      <td>NaN</td>\n",
       "      <td>NaN</td>\n",
       "      <td>NaN</td>\n",
       "      <td>NaN</td>\n",
       "    </tr>\n",
       "    <tr>\n",
       "      <th>5</th>\n",
       "      <td>50.0</td>\n",
       "      <td>38.64</td>\n",
       "      <td>12.39</td>\n",
       "      <td>147.57</td>\n",
       "      <td>47.65</td>\n",
       "      <td>0.261842</td>\n",
       "      <td>0.119154</td>\n",
       "      <td>50.0</td>\n",
       "      <td>28.67</td>\n",
       "      <td>7.52</td>\n",
       "      <td>...</td>\n",
       "      <td>546.98</td>\n",
       "      <td>0.165761</td>\n",
       "      <td>0.174583</td>\n",
       "      <td>NaN</td>\n",
       "      <td>NaN</td>\n",
       "      <td>NaN</td>\n",
       "      <td>NaN</td>\n",
       "      <td>NaN</td>\n",
       "      <td>NaN</td>\n",
       "      <td>NaN</td>\n",
       "    </tr>\n",
       "    <tr>\n",
       "      <th>6</th>\n",
       "      <td>60.0</td>\n",
       "      <td>19.37</td>\n",
       "      <td>5.35</td>\n",
       "      <td>124.82</td>\n",
       "      <td>34.65</td>\n",
       "      <td>0.155183</td>\n",
       "      <td>0.060769</td>\n",
       "      <td>60.0</td>\n",
       "      <td>30.77</td>\n",
       "      <td>8.79</td>\n",
       "      <td>...</td>\n",
       "      <td>959.00</td>\n",
       "      <td>0.064169</td>\n",
       "      <td>0.079910</td>\n",
       "      <td>NaN</td>\n",
       "      <td>NaN</td>\n",
       "      <td>NaN</td>\n",
       "      <td>NaN</td>\n",
       "      <td>NaN</td>\n",
       "      <td>NaN</td>\n",
       "      <td>NaN</td>\n",
       "    </tr>\n",
       "    <tr>\n",
       "      <th>7</th>\n",
       "      <td>75.0</td>\n",
       "      <td>10.46</td>\n",
       "      <td>4.31</td>\n",
       "      <td>292.21</td>\n",
       "      <td>121.78</td>\n",
       "      <td>0.035796</td>\n",
       "      <td>0.020979</td>\n",
       "      <td>70.0</td>\n",
       "      <td>17.85</td>\n",
       "      <td>6.22</td>\n",
       "      <td>...</td>\n",
       "      <td>NaN</td>\n",
       "      <td>NaN</td>\n",
       "      <td>NaN</td>\n",
       "      <td>NaN</td>\n",
       "      <td>NaN</td>\n",
       "      <td>NaN</td>\n",
       "      <td>NaN</td>\n",
       "      <td>NaN</td>\n",
       "      <td>NaN</td>\n",
       "      <td>NaN</td>\n",
       "    </tr>\n",
       "    <tr>\n",
       "      <th>8</th>\n",
       "      <td>80.0</td>\n",
       "      <td>7.16</td>\n",
       "      <td>2.49</td>\n",
       "      <td>216.84</td>\n",
       "      <td>75.90</td>\n",
       "      <td>0.033020</td>\n",
       "      <td>0.016292</td>\n",
       "      <td>75.0</td>\n",
       "      <td>15.14</td>\n",
       "      <td>6.01</td>\n",
       "      <td>...</td>\n",
       "      <td>NaN</td>\n",
       "      <td>NaN</td>\n",
       "      <td>NaN</td>\n",
       "      <td>NaN</td>\n",
       "      <td>NaN</td>\n",
       "      <td>NaN</td>\n",
       "      <td>NaN</td>\n",
       "      <td>NaN</td>\n",
       "      <td>NaN</td>\n",
       "      <td>NaN</td>\n",
       "    </tr>\n",
       "    <tr>\n",
       "      <th>9</th>\n",
       "      <td>100.0</td>\n",
       "      <td>5.57</td>\n",
       "      <td>3.17</td>\n",
       "      <td>548.43</td>\n",
       "      <td>318.38</td>\n",
       "      <td>0.010156</td>\n",
       "      <td>0.008257</td>\n",
       "      <td>80.0</td>\n",
       "      <td>12.28</td>\n",
       "      <td>8.98</td>\n",
       "      <td>...</td>\n",
       "      <td>NaN</td>\n",
       "      <td>NaN</td>\n",
       "      <td>NaN</td>\n",
       "      <td>NaN</td>\n",
       "      <td>NaN</td>\n",
       "      <td>NaN</td>\n",
       "      <td>NaN</td>\n",
       "      <td>NaN</td>\n",
       "      <td>NaN</td>\n",
       "      <td>NaN</td>\n",
       "    </tr>\n",
       "    <tr>\n",
       "      <th>10</th>\n",
       "      <td>NaN</td>\n",
       "      <td>NaN</td>\n",
       "      <td>NaN</td>\n",
       "      <td>NaN</td>\n",
       "      <td>NaN</td>\n",
       "      <td>NaN</td>\n",
       "      <td>NaN</td>\n",
       "      <td>100.0</td>\n",
       "      <td>8.84</td>\n",
       "      <td>3.49</td>\n",
       "      <td>...</td>\n",
       "      <td>NaN</td>\n",
       "      <td>NaN</td>\n",
       "      <td>NaN</td>\n",
       "      <td>NaN</td>\n",
       "      <td>NaN</td>\n",
       "      <td>NaN</td>\n",
       "      <td>NaN</td>\n",
       "      <td>NaN</td>\n",
       "      <td>NaN</td>\n",
       "      <td>NaN</td>\n",
       "    </tr>\n",
       "    <tr>\n",
       "      <th>11</th>\n",
       "      <td>NaN</td>\n",
       "      <td>NaN</td>\n",
       "      <td>NaN</td>\n",
       "      <td>NaN</td>\n",
       "      <td>NaN</td>\n",
       "      <td>NaN</td>\n",
       "      <td>NaN</td>\n",
       "      <td>NaN</td>\n",
       "      <td>NaN</td>\n",
       "      <td>NaN</td>\n",
       "      <td>...</td>\n",
       "      <td>NaN</td>\n",
       "      <td>NaN</td>\n",
       "      <td>NaN</td>\n",
       "      <td>NaN</td>\n",
       "      <td>NaN</td>\n",
       "      <td>NaN</td>\n",
       "      <td>NaN</td>\n",
       "      <td>NaN</td>\n",
       "      <td>NaN</td>\n",
       "      <td>NaN</td>\n",
       "    </tr>\n",
       "  </tbody>\n",
       "</table>\n",
       "<p>12 rows × 154 columns</p>\n",
       "</div>"
      ],
      "text/plain": [
       "     Point_1                                                           \\\n",
       "   Potential t_ratio_timetrace                                          \n",
       "   Potential            t_onav t_onaverr t_offav t_offaverr   t_ratio   \n",
       "0        0.0             41.73     11.41   48.38      13.30  0.862547   \n",
       "1       20.0             40.39     10.71   73.25      19.52  0.551399   \n",
       "2       25.0             47.14     12.96   94.02      25.97  0.501383   \n",
       "3       40.0             25.59      7.23  124.62      35.40  0.205344   \n",
       "4       50.0             35.75     10.38  122.49      35.75  0.291861   \n",
       "5       50.0             38.64     12.39  147.57      47.65  0.261842   \n",
       "6       60.0             19.37      5.35  124.82      34.65  0.155183   \n",
       "7       75.0             10.46      4.31  292.21     121.78  0.035796   \n",
       "8       80.0              7.16      2.49  216.84      75.90  0.033020   \n",
       "9      100.0              5.57      3.17  548.43     318.38  0.010156   \n",
       "10       NaN               NaN       NaN     NaN        NaN       NaN   \n",
       "11       NaN               NaN       NaN     NaN        NaN       NaN   \n",
       "\n",
       "                Point_2                                ...      \\\n",
       "              Potential t_ratio_timetrace              ...       \n",
       "   t_ratioerr Potential            t_onav t_onaverr    ...       \n",
       "0    0.334435       0.0             19.51      3.74    ...       \n",
       "1    0.207290      20.0             32.59      7.18    ...       \n",
       "2    0.195398      25.0             18.75      4.92    ...       \n",
       "3    0.082270      40.0             71.20     38.14    ...       \n",
       "4    0.120155      50.0             21.82      5.72    ...       \n",
       "5    0.119154      50.0             28.67      7.52    ...       \n",
       "6    0.060769      60.0             30.77      8.79    ...       \n",
       "7    0.020979      70.0             17.85      6.22    ...       \n",
       "8    0.016292      75.0             15.14      6.01    ...       \n",
       "9    0.008257      80.0             12.28      8.98    ...       \n",
       "10        NaN     100.0              8.84      3.49    ...       \n",
       "11        NaN       NaN               NaN       NaN    ...       \n",
       "\n",
       "            Point_23                       Point_24                    \\\n",
       "   t_ratio_timetrace                      Potential t_ratio_timetrace   \n",
       "          t_offaverr   t_ratio t_ratioerr Potential            t_onav   \n",
       "0             113.86  0.605983   0.405892      50.0             88.24   \n",
       "1             742.76  0.950804   1.411024      75.0             84.03   \n",
       "2             272.43  1.019982   1.020960     100.0             32.77   \n",
       "3             601.30  0.347478   0.403713       NaN               NaN   \n",
       "4             570.96  0.234652   0.256465       NaN               NaN   \n",
       "5             546.98  0.165761   0.174583       NaN               NaN   \n",
       "6             959.00  0.064169   0.079910       NaN               NaN   \n",
       "7                NaN       NaN        NaN       NaN               NaN   \n",
       "8                NaN       NaN        NaN       NaN               NaN   \n",
       "9                NaN       NaN        NaN       NaN               NaN   \n",
       "10               NaN       NaN        NaN       NaN               NaN   \n",
       "11               NaN       NaN        NaN       NaN               NaN   \n",
       "\n",
       "                                                      \n",
       "                                                      \n",
       "   t_onaverr t_offav t_offaverr   t_ratio t_ratioerr  \n",
       "0      36.57  221.16      92.70  0.398987   0.235182  \n",
       "1      58.51  649.74     467.23  0.129329   0.129454  \n",
       "2      22.82  762.59     548.38  0.042972   0.043016  \n",
       "3        NaN     NaN        NaN       NaN        NaN  \n",
       "4        NaN     NaN        NaN       NaN        NaN  \n",
       "5        NaN     NaN        NaN       NaN        NaN  \n",
       "6        NaN     NaN        NaN       NaN        NaN  \n",
       "7        NaN     NaN        NaN       NaN        NaN  \n",
       "8        NaN     NaN        NaN       NaN        NaN  \n",
       "9        NaN     NaN        NaN       NaN        NaN  \n",
       "10       NaN     NaN        NaN       NaN        NaN  \n",
       "11       NaN     NaN        NaN       NaN        NaN  \n",
       "\n",
       "[12 rows x 154 columns]"
      ]
     },
     "execution_count": 14,
     "metadata": {},
     "output_type": "execute_result"
    }
   ],
   "source": [
    "out_total = timetrace_outputs_folderwise(folderpath=S101d14Feb17_A2_Cu, pointnumbers=range(50), potentialist=potentialist)\n",
    "out_total"
   ]
  },
  {
   "cell_type": "code",
   "execution_count": 19,
   "metadata": {
    "ExecuteTime": {
     "end_time": "2017-06-13T19:09:38.939155Z",
     "start_time": "2017-06-13T19:09:38.595126Z"
    },
    "collapsed": false
   },
   "outputs": [
    {
     "name": "stdout",
     "output_type": "stream",
     "text": [
      "Number of on-events: 153\n",
      "Number of off-events: 151\n"
     ]
    }
   ],
   "source": [
    "df_datn_em_specific, df_fcs_specific = get_point_specifics(foldername= homedir, input_potential=[75], pointnumbers=[1])\n",
    "df_fcs=df_fcs_specific['filepath[FCS]'][0]\n",
    "df_emplot = df_datn_em_specific['filepath[.em.plot]'][0]\n",
    "df_datn = df_datn_em_specific['filepath[.datn]'][0]\n",
    "df_ton, df_toff, average_ton, average_toff, average_ton_err, average_toff_err = t_on_off_fromCP(df_datn, df_emplot)\n",
    "\n",
    "print('Number of on-events: %d' %len(df_ton))\n",
    "print('Number of off-events: %d' %len(df_toff))"
   ]
  },
  {
   "cell_type": "code",
   "execution_count": null,
   "metadata": {
    "collapsed": true
   },
   "outputs": [],
   "source": []
  }
 ],
 "metadata": {
  "anaconda-cloud": {},
  "kernelspec": {
   "display_name": "Python 3",
   "language": "python",
   "name": "python3"
  },
  "language_info": {
   "codemirror_mode": {
    "name": "ipython",
    "version": 3
   },
   "file_extension": ".py",
   "mimetype": "text/x-python",
   "name": "python",
   "nbconvert_exporter": "python",
   "pygments_lexer": "ipython3",
   "version": "3.6.0"
  },
  "toc": {
   "colors": {
    "hover_highlight": "#DAA520",
    "navigate_num": "#000000",
    "navigate_text": "#333333",
    "running_highlight": "#FF0000",
    "selected_highlight": "#FFD700",
    "sidebar_border": "#EEEEEE",
    "wrapper_background": "#FFFFFF"
   },
   "moveMenuLeft": true,
   "nav_menu": {
    "height": "30px",
    "width": "252px"
   },
   "navigate_menu": true,
   "number_sections": true,
   "sideBar": false,
   "threshold": 4,
   "toc_cell": false,
   "toc_position": {
    "height": "950px",
    "left": "5px",
    "right": "20px",
    "top": "101.972px",
    "width": "240px"
   },
   "toc_section_display": "block",
   "toc_window_display": false,
   "widenNotebook": false
  }
 },
 "nbformat": 4,
 "nbformat_minor": 1
}
