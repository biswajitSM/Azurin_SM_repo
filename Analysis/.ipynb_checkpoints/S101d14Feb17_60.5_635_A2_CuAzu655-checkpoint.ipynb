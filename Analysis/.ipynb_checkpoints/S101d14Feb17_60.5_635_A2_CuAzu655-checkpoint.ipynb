{
 "cells": [
  {
   "cell_type": "code",
   "execution_count": 1,
   "metadata": {
    "ExecuteTime": {
     "end_time": "2017-03-14T14:12:01.166136",
     "start_time": "2017-03-14T14:12:01.154136"
    },
    "collapsed": false
   },
   "outputs": [
    {
     "name": "stdout",
     "output_type": "stream",
     "text": [
      "D:\\Research\\Reports and Presentation\\reports\\azurin_single-molecule\\Analysis\n",
      "D:\\Research\\Experimental\\Analysis\\2017analysis\\201702\\Analysis_Sebby_March_2017\\S101d14Feb17_60.5_635_A2_CuAzu655\n"
     ]
    }
   ],
   "source": [
    "import os\n",
    "parentdir = os.getcwd()\n",
    "print(parentdir)\n",
    "directory=r\"D:\\Research\\Experimental\\Analysis\\2017analysis\\201702\\Analysis_Sebby_March_2017\\S101d14Feb17_60.5_635_A2_CuAzu655\";#data directory\n",
    "print(directory)"
   ]
  },
  {
   "cell_type": "code",
   "execution_count": null,
   "metadata": {
    "collapsed": true
   },
   "outputs": [],
   "source": []
  }
 ],
 "metadata": {
  "anaconda-cloud": {},
  "kernelspec": {
   "display_name": "Python [default]",
   "language": "python",
   "name": "python3"
  },
  "language_info": {
   "codemirror_mode": {
    "name": "ipython",
    "version": 3
   },
   "file_extension": ".py",
   "mimetype": "text/x-python",
   "name": "python",
   "nbconvert_exporter": "python",
   "pygments_lexer": "ipython3",
   "version": "3.5.2"
  },
  "toc": {
   "nav_menu": {
    "height": "12px",
    "width": "252px"
   },
   "navigate_menu": true,
   "number_sections": true,
   "sideBar": true,
   "threshold": 4,
   "toc_cell": false,
   "toc_section_display": "block",
   "toc_window_display": false
  }
 },
 "nbformat": 4,
 "nbformat_minor": 1
}
