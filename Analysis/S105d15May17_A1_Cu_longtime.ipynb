{
 "cells": [
  {
   "cell_type": "code",
   "execution_count": 1,
   "metadata": {
    "ExecuteTime": {
     "end_time": "2017-06-16T19:26:26.172415Z",
     "start_time": "2017-06-16T19:26:26.137390Z"
    },
    "code_folding": [
     0
    ],
    "collapsed": false
   },
   "outputs": [
    {
     "name": "stdout",
     "output_type": "stream",
     "text": [
      "The working directory is parentdir: /home/biswajit/Research/Reports_ppt/reports/AzurinSM-MS4/Azurin_SM_repo/Analysis\n",
      "The data directory is homedir: /home/biswajit/Research/Reports_ppt/reports/AzurinSM-MS4/data/S105d15May17_60.5%635_A1_CuAzu655\n"
     ]
    }
   ],
   "source": [
    "#directories\n",
    "import os\n",
    "try:\n",
    "    parentdir\n",
    "except NameError:\n",
    "    parentdir=os.getcwd()\n",
    "else:\n",
    "    parentdir = parentdir\n",
    "homedir=r'/home/biswajit/Research/Reports_ppt/reports/AzurinSM-MS4/data/S105d15May17_60.5%635_A1_CuAzu655';#data directory\n",
    "print('The working directory is parentdir: %s' %parentdir)\n",
    "print('The data directory is homedir: %s' %homedir)"
   ]
  },
  {
   "cell_type": "code",
   "execution_count": 7,
   "metadata": {
    "ExecuteTime": {
     "end_time": "2017-06-16T19:34:32.956467Z",
     "start_time": "2017-06-16T19:34:31.395725Z"
    },
    "code_folding": [
     0
    ],
    "collapsed": true
   },
   "outputs": [],
   "source": [
    "#Run this once to run the .py file.\n",
    "os.chdir(parentdir)\n",
    "!python Analysis_bis.py\n",
    "%run Analysis_bis.py\n",
    "%matplotlib inline\n",
    "import warnings\n",
    "warnings.filterwarnings(\"ignore\")"
   ]
  },
  {
   "cell_type": "markdown",
   "metadata": {},
   "source": [
    "## List of Point"
   ]
  },
  {
   "cell_type": "code",
   "execution_count": 5,
   "metadata": {
    "ExecuteTime": {
     "end_time": "2017-06-16T19:33:40.921545Z",
     "start_time": "2017-06-16T19:33:40.912699Z"
    },
    "collapsed": true
   },
   "outputs": [],
   "source": [
    "pd.set_option('display.max_columns', 500)"
   ]
  },
  {
   "cell_type": "code",
   "execution_count": 8,
   "metadata": {
    "ExecuteTime": {
     "end_time": "2017-06-16T19:34:38.232171Z",
     "start_time": "2017-06-16T19:34:37.970797Z"
    },
    "collapsed": false
   },
   "outputs": [
    {
     "data": {
      "text/html": [
       "<div>\n",
       "<table border=\"1\" class=\"dataframe\">\n",
       "  <thead>\n",
       "    <tr style=\"text-align: right;\">\n",
       "      <th></th>\n",
       "      <th>Point_4</th>\n",
       "      <th>Point_5</th>\n",
       "      <th>Point_6</th>\n",
       "      <th>Point_7</th>\n",
       "      <th>Point_8</th>\n",
       "      <th>Point_9</th>\n",
       "      <th>Point_10</th>\n",
       "      <th>Point_11</th>\n",
       "      <th>Point_12</th>\n",
       "      <th>Point_13</th>\n",
       "      <th>Point_14</th>\n",
       "      <th>Point_15</th>\n",
       "      <th>Point_16</th>\n",
       "      <th>Point_17</th>\n",
       "      <th>Point_18</th>\n",
       "      <th>Point_19</th>\n",
       "      <th>Point_20</th>\n",
       "      <th>Point_21</th>\n",
       "      <th>Point_22</th>\n",
       "      <th>Point_23</th>\n",
       "      <th>Point_24</th>\n",
       "      <th>Point_25</th>\n",
       "      <th>Point_26</th>\n",
       "      <th>Point_27</th>\n",
       "    </tr>\n",
       "  </thead>\n",
       "  <tbody>\n",
       "    <tr>\n",
       "      <th>0</th>\n",
       "      <td>25.0</td>\n",
       "      <td>25.0</td>\n",
       "      <td>25.0</td>\n",
       "      <td>25.0</td>\n",
       "      <td>25.0</td>\n",
       "      <td>25.0</td>\n",
       "      <td>25.0</td>\n",
       "      <td>25.0</td>\n",
       "      <td>25.0</td>\n",
       "      <td>25.0</td>\n",
       "      <td>50.0</td>\n",
       "      <td>50.0</td>\n",
       "      <td>50.0</td>\n",
       "      <td>50.0</td>\n",
       "      <td>50.0</td>\n",
       "      <td>75.0</td>\n",
       "      <td>75.0</td>\n",
       "      <td>75.0</td>\n",
       "      <td>75.0</td>\n",
       "      <td>75.0</td>\n",
       "      <td>100.0</td>\n",
       "      <td>100.0</td>\n",
       "      <td>100.0</td>\n",
       "      <td>100.0</td>\n",
       "    </tr>\n",
       "  </tbody>\n",
       "</table>\n",
       "</div>"
      ],
      "text/plain": [
       "   Point_4  Point_5  Point_6  Point_7  Point_8  Point_9  Point_10  Point_11  \\\n",
       "0     25.0     25.0     25.0     25.0     25.0     25.0      25.0      25.0   \n",
       "\n",
       "   Point_12  Point_13  Point_14  Point_15  Point_16  Point_17  Point_18  \\\n",
       "0      25.0      25.0      50.0      50.0      50.0      50.0      50.0   \n",
       "\n",
       "   Point_19  Point_20  Point_21  Point_22  Point_23  Point_24  Point_25  \\\n",
       "0      75.0      75.0      75.0      75.0      75.0     100.0     100.0   \n",
       "\n",
       "   Point_26  Point_27  \n",
       "0     100.0     100.0  "
      ]
     },
     "execution_count": 8,
     "metadata": {},
     "output_type": "execute_result"
    }
   ],
   "source": [
    "point_list(foldername=homedir)"
   ]
  },
  {
   "cell_type": "markdown",
   "metadata": {},
   "source": [
    "## Time trace plot"
   ]
  },
  {
   "cell_type": "code",
   "execution_count": 11,
   "metadata": {
    "ExecuteTime": {
     "end_time": "2017-06-16T19:36:00.889775Z",
     "start_time": "2017-06-16T19:36:00.274509Z"
    },
    "collapsed": false
   },
   "outputs": [
    {
     "data": {
      "image/png": "[encoded data removed]",
      "text/plain": [
       "<matplotlib.figure.Figure at 0x7fc9e71620b8>"
      ]
     },
     "metadata": {},
     "output_type": "display_data"
    }
   ],
   "source": [
    "fig = time_trace_plot(foldername= homedir, input_potential=[25, 50, 100], pointnumbers=[4],\n",
    "                      x_lim_min=0, y_lim_min=0, x_lim_max=10, y_lim_max=10, bin=2, show_changepoint=True)"
   ]
  },
  {
   "cell_type": "code",
   "execution_count": null,
   "metadata": {
    "collapsed": true
   },
   "outputs": [],
   "source": []
  }
 ],
 "metadata": {
  "kernelspec": {
   "display_name": "Python 3",
   "language": "python",
   "name": "python3"
  },
  "language_info": {
   "codemirror_mode": {
    "name": "ipython",
    "version": 3
   },
   "file_extension": ".py",
   "mimetype": "text/x-python",
   "name": "python",
   "nbconvert_exporter": "python",
   "pygments_lexer": "ipython3",
   "version": "3.6.0"
  },
  "toc": {
   "colors": {
    "hover_highlight": "#DAA520",
    "navigate_num": "#000000",
    "navigate_text": "#333333",
    "running_highlight": "#FF0000",
    "selected_highlight": "#FFD700",
    "sidebar_border": "#EEEEEE",
    "wrapper_background": "#FFFFFF"
   },
   "moveMenuLeft": true,
   "nav_menu": {
    "height": "48px",
    "width": "252px"
   },
   "navigate_menu": true,
   "number_sections": true,
   "sideBar": true,
   "threshold": 4,
   "toc_cell": false,
   "toc_section_display": "block",
   "toc_window_display": false,
   "widenNotebook": false
  }
 },
 "nbformat": 4,
 "nbformat_minor": 2
}
