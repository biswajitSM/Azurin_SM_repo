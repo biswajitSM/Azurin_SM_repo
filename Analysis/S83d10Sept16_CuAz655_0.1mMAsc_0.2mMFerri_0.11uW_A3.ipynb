{
 "cells": [
  {
   "cell_type": "markdown",
   "metadata": {},
   "source": [
    "## Import and directories"
   ]
  },
  {
   "cell_type": "code",
   "execution_count": 2,
   "metadata": {
    "ExecuteTime": {
     "end_time": "2017-06-18T22:58:06.123794Z",
     "start_time": "2017-06-18T22:58:05.842999Z"
    },
    "code_folding": [],
    "collapsed": false
   },
   "outputs": [
    {
     "name": "stdout",
     "output_type": "stream",
     "text": [
      "The working directory is parentdir: /home/biswajit/Research/Reports_ppt/reports/AzurinSM-MS4/Azurin_SM_repo/Analysis\n",
      "The data directory is homedir: /home/biswajit/Research/Reports_ppt/reports/AzurinSM-MS4/data/201609/20160910_CuAzu655Ferri_asc_2ndtime/S83d10Sept16_CuAz655_0.1mMAsc_0.2mMFerri_0.11uW_A3/30sec_trace/\n"
     ]
    }
   ],
   "source": [
    "#directories\n",
    "import os\n",
    "try:\n",
    "    parentdir\n",
    "except NameError:\n",
    "    parentdir=os.getcwd()\n",
    "else:\n",
    "    parentdir = parentdir\n",
    "homedir_30s=r'/home/biswajit/Research/Reports_ppt/reports/AzurinSM-MS4/data/201609/20160910_CuAzu655Ferri_asc_2ndtime/S83d10Sept16_CuAz655_0.1mMAsc_0.2mMFerri_0.11uW_A3/30sec_trace/';#data directory\n",
    "homedir_300s=r'/home/biswajit/Research/Reports_ppt/reports/AzurinSM-MS4/data/201609/20160910_CuAzu655Ferri_asc_2ndtime/S83d10Sept16_CuAz655_0.1mMAsc_0.2mMFerri_0.11uW_A3/300sec_trace/';#data directory\n",
    "\n",
    "print('The working directory is parentdir: %s' %parentdir)\n",
    "print('The data directory is homedir: %s' %homedir_30s)\n",
    "\n",
    "%matplotlib inline\n",
    "import warnings\n",
    "warnings.filterwarnings(\"ignore\")"
   ]
  },
  {
   "cell_type": "code",
   "execution_count": 3,
   "metadata": {
    "ExecuteTime": {
     "end_time": "2017-06-18T22:58:17.621079Z",
     "start_time": "2017-06-18T22:58:15.785068Z"
    },
    "collapsed": false
   },
   "outputs": [],
   "source": [
    "#Run this once to run the .py file.\n",
    "os.chdir(parentdir)\n",
    "!python Analysis_bis.py\n",
    "%run Analysis_bis.py"
   ]
  },
  {
   "cell_type": "markdown",
   "metadata": {},
   "source": [
    "### Figure parameters"
   ]
  },
  {
   "cell_type": "code",
   "execution_count": 4,
   "metadata": {
    "ExecuteTime": {
     "end_time": "2017-06-18T22:58:21.179769Z",
     "start_time": "2017-06-18T22:58:21.166772Z"
    },
    "collapsed": true
   },
   "outputs": [],
   "source": [
    "mpl.rcParams[\"font.family\"] = \"sans-serif\"\n",
    "mpl.rcParams[\"font.size\"] = \"14\""
   ]
  },
  {
   "cell_type": "markdown",
   "metadata": {},
   "source": [
    "## List of Points"
   ]
  },
  {
   "cell_type": "markdown",
   "metadata": {},
   "source": [
    "### 30 sec trace"
   ]
  },
  {
   "cell_type": "code",
   "execution_count": 5,
   "metadata": {
    "ExecuteTime": {
     "end_time": "2017-06-18T22:58:26.631404Z",
     "start_time": "2017-06-18T22:58:24.365929Z"
    },
    "collapsed": false
   },
   "outputs": [
    {
     "data": {
      "text/html": [
       "<div>\n",
       "<table border=\"1\" class=\"dataframe\">\n",
       "  <thead>\n",
       "    <tr style=\"text-align: right;\">\n",
       "      <th></th>\n",
       "      <th>Point_1</th>\n",
       "      <th>Point_2</th>\n",
       "      <th>Point_3</th>\n",
       "      <th>Point_4</th>\n",
       "      <th>Point_6</th>\n",
       "      <th>Point_7</th>\n",
       "      <th>Point_8</th>\n",
       "      <th>Point_9</th>\n",
       "      <th>Point_10</th>\n",
       "      <th>Point_11</th>\n",
       "      <th>...</th>\n",
       "      <th>Point_22</th>\n",
       "      <th>Point_23</th>\n",
       "      <th>Point_24</th>\n",
       "      <th>Point_25</th>\n",
       "      <th>Point_26</th>\n",
       "      <th>Point_27</th>\n",
       "      <th>Point_28</th>\n",
       "      <th>Point_29</th>\n",
       "      <th>Point_30</th>\n",
       "      <th>Point_31</th>\n",
       "    </tr>\n",
       "  </thead>\n",
       "  <tbody>\n",
       "    <tr>\n",
       "      <th>0</th>\n",
       "      <td>-50</td>\n",
       "      <td>-100.0</td>\n",
       "      <td>-100.0</td>\n",
       "      <td>-100</td>\n",
       "      <td>0</td>\n",
       "      <td>-100.0</td>\n",
       "      <td>-100.0</td>\n",
       "      <td>0</td>\n",
       "      <td>-100.0</td>\n",
       "      <td>-100.0</td>\n",
       "      <td>...</td>\n",
       "      <td>-100.0</td>\n",
       "      <td>-100.0</td>\n",
       "      <td>-100.0</td>\n",
       "      <td>-100.0</td>\n",
       "      <td>-100.0</td>\n",
       "      <td>-100.0</td>\n",
       "      <td>-100.0</td>\n",
       "      <td>-100.0</td>\n",
       "      <td>-100</td>\n",
       "      <td>-100</td>\n",
       "    </tr>\n",
       "    <tr>\n",
       "      <th>1</th>\n",
       "      <td>0</td>\n",
       "      <td>-50.0</td>\n",
       "      <td>-50.0</td>\n",
       "      <td>-50</td>\n",
       "      <td>50</td>\n",
       "      <td>-50.0</td>\n",
       "      <td>-50.0</td>\n",
       "      <td>50</td>\n",
       "      <td>-50.0</td>\n",
       "      <td>-50.0</td>\n",
       "      <td>...</td>\n",
       "      <td>-50.0</td>\n",
       "      <td>-50.0</td>\n",
       "      <td>-50.0</td>\n",
       "      <td>-50.0</td>\n",
       "      <td>-50.0</td>\n",
       "      <td>-50.0</td>\n",
       "      <td>-50.0</td>\n",
       "      <td>-50.0</td>\n",
       "      <td>-50</td>\n",
       "      <td>-50</td>\n",
       "    </tr>\n",
       "    <tr>\n",
       "      <th>2</th>\n",
       "      <td>50</td>\n",
       "      <td>0.0</td>\n",
       "      <td>0.0</td>\n",
       "      <td>0</td>\n",
       "      <td>100</td>\n",
       "      <td>0.0</td>\n",
       "      <td>0.0</td>\n",
       "      <td>100</td>\n",
       "      <td>0.0</td>\n",
       "      <td>0.0</td>\n",
       "      <td>...</td>\n",
       "      <td>0.0</td>\n",
       "      <td>0.0</td>\n",
       "      <td>0.0</td>\n",
       "      <td>0.0</td>\n",
       "      <td>0.0</td>\n",
       "      <td>0.0</td>\n",
       "      <td>0.0</td>\n",
       "      <td>0.0</td>\n",
       "      <td>0</td>\n",
       "      <td>0</td>\n",
       "    </tr>\n",
       "    <tr>\n",
       "      <th>3</th>\n",
       "      <td>100</td>\n",
       "      <td>25.0</td>\n",
       "      <td>25.0</td>\n",
       "      <td>50</td>\n",
       "      <td></td>\n",
       "      <td>25.0</td>\n",
       "      <td>25.0</td>\n",
       "      <td></td>\n",
       "      <td>25.0</td>\n",
       "      <td>25.0</td>\n",
       "      <td>...</td>\n",
       "      <td>25.0</td>\n",
       "      <td>25.0</td>\n",
       "      <td>25.0</td>\n",
       "      <td>25.0</td>\n",
       "      <td>25.0</td>\n",
       "      <td>25.0</td>\n",
       "      <td>25.0</td>\n",
       "      <td>25.0</td>\n",
       "      <td>50</td>\n",
       "      <td>25</td>\n",
       "    </tr>\n",
       "    <tr>\n",
       "      <th>4</th>\n",
       "      <td></td>\n",
       "      <td>50.0</td>\n",
       "      <td>50.0</td>\n",
       "      <td>75</td>\n",
       "      <td></td>\n",
       "      <td>50.0</td>\n",
       "      <td>50.0</td>\n",
       "      <td></td>\n",
       "      <td>50.0</td>\n",
       "      <td>50.0</td>\n",
       "      <td>...</td>\n",
       "      <td>50.0</td>\n",
       "      <td>50.0</td>\n",
       "      <td>50.0</td>\n",
       "      <td>50.0</td>\n",
       "      <td>50.0</td>\n",
       "      <td>50.0</td>\n",
       "      <td>50.0</td>\n",
       "      <td>50.0</td>\n",
       "      <td>75</td>\n",
       "      <td>50</td>\n",
       "    </tr>\n",
       "    <tr>\n",
       "      <th>5</th>\n",
       "      <td></td>\n",
       "      <td>75.0</td>\n",
       "      <td>75.0</td>\n",
       "      <td>100</td>\n",
       "      <td></td>\n",
       "      <td>75.0</td>\n",
       "      <td>75.0</td>\n",
       "      <td></td>\n",
       "      <td>75.0</td>\n",
       "      <td>75.0</td>\n",
       "      <td>...</td>\n",
       "      <td>75.0</td>\n",
       "      <td>75.0</td>\n",
       "      <td>75.0</td>\n",
       "      <td>75.0</td>\n",
       "      <td>75.0</td>\n",
       "      <td>75.0</td>\n",
       "      <td>75.0</td>\n",
       "      <td>75.0</td>\n",
       "      <td>100</td>\n",
       "      <td>75</td>\n",
       "    </tr>\n",
       "    <tr>\n",
       "      <th>6</th>\n",
       "      <td></td>\n",
       "      <td>100.0</td>\n",
       "      <td>100.0</td>\n",
       "      <td></td>\n",
       "      <td></td>\n",
       "      <td>100.0</td>\n",
       "      <td>100.0</td>\n",
       "      <td></td>\n",
       "      <td>100.0</td>\n",
       "      <td>100.0</td>\n",
       "      <td>...</td>\n",
       "      <td>100.0</td>\n",
       "      <td>100.0</td>\n",
       "      <td>100.0</td>\n",
       "      <td>100.0</td>\n",
       "      <td>100.0</td>\n",
       "      <td>100.0</td>\n",
       "      <td>100.0</td>\n",
       "      <td>100.0</td>\n",
       "      <td></td>\n",
       "      <td></td>\n",
       "    </tr>\n",
       "  </tbody>\n",
       "</table>\n",
       "<p>7 rows × 30 columns</p>\n",
       "</div>"
      ],
      "text/plain": [
       "  Point_1  Point_2  Point_3 Point_4 Point_6  Point_7  Point_8 Point_9  \\\n",
       "0     -50   -100.0   -100.0    -100       0   -100.0   -100.0       0   \n",
       "1       0    -50.0    -50.0     -50      50    -50.0    -50.0      50   \n",
       "2      50      0.0      0.0       0     100      0.0      0.0     100   \n",
       "3     100     25.0     25.0      50             25.0     25.0           \n",
       "4             50.0     50.0      75             50.0     50.0           \n",
       "5             75.0     75.0     100             75.0     75.0           \n",
       "6            100.0    100.0                    100.0    100.0           \n",
       "\n",
       "   Point_10  Point_11    ...     Point_22  Point_23  Point_24  Point_25  \\\n",
       "0    -100.0    -100.0    ...       -100.0    -100.0    -100.0    -100.0   \n",
       "1     -50.0     -50.0    ...        -50.0     -50.0     -50.0     -50.0   \n",
       "2       0.0       0.0    ...          0.0       0.0       0.0       0.0   \n",
       "3      25.0      25.0    ...         25.0      25.0      25.0      25.0   \n",
       "4      50.0      50.0    ...         50.0      50.0      50.0      50.0   \n",
       "5      75.0      75.0    ...         75.0      75.0      75.0      75.0   \n",
       "6     100.0     100.0    ...        100.0     100.0     100.0     100.0   \n",
       "\n",
       "   Point_26 Point_27  Point_28  Point_29  Point_30  Point_31  \n",
       "0    -100.0   -100.0    -100.0    -100.0      -100      -100  \n",
       "1     -50.0    -50.0     -50.0     -50.0       -50       -50  \n",
       "2       0.0      0.0       0.0       0.0         0         0  \n",
       "3      25.0     25.0      25.0      25.0        50        25  \n",
       "4      50.0     50.0      50.0      50.0        75        50  \n",
       "5      75.0     75.0      75.0      75.0       100        75  \n",
       "6     100.0    100.0     100.0     100.0                      \n",
       "\n",
       "[7 rows x 30 columns]"
      ]
     },
     "execution_count": 5,
     "metadata": {},
     "output_type": "execute_result"
    }
   ],
   "source": [
    "point_list(foldername=homedir_30s)"
   ]
  },
  {
   "cell_type": "markdown",
   "metadata": {},
   "source": [
    "### 300 sec trace"
   ]
  },
  {
   "cell_type": "code",
   "execution_count": 9,
   "metadata": {
    "ExecuteTime": {
     "end_time": "2017-06-13T14:33:44.690022Z",
     "start_time": "2017-06-13T14:33:44.521496Z"
    },
    "collapsed": false
   },
   "outputs": [
    {
     "data": {
      "text/html": [
       "<div>\n",
       "<table border=\"1\" class=\"dataframe\">\n",
       "  <thead>\n",
       "    <tr style=\"text-align: right;\">\n",
       "      <th></th>\n",
       "      <th>Point_2</th>\n",
       "      <th>Point_3</th>\n",
       "      <th>Point_4</th>\n",
       "      <th>Point_8</th>\n",
       "      <th>Point_10</th>\n",
       "      <th>Point_11</th>\n",
       "      <th>Point_12</th>\n",
       "      <th>Point_15</th>\n",
       "      <th>Point_16</th>\n",
       "      <th>Point_18</th>\n",
       "      <th>...</th>\n",
       "      <th>Point_20</th>\n",
       "      <th>Point_21</th>\n",
       "      <th>Point_22</th>\n",
       "      <th>Point_23</th>\n",
       "      <th>Point_24</th>\n",
       "      <th>Point_26</th>\n",
       "      <th>Point_27</th>\n",
       "      <th>Point_28</th>\n",
       "      <th>Point_29</th>\n",
       "      <th>Point_31</th>\n",
       "    </tr>\n",
       "  </thead>\n",
       "  <tbody>\n",
       "    <tr>\n",
       "      <th>0</th>\n",
       "      <td>25.0</td>\n",
       "      <td>25.0</td>\n",
       "      <td>25</td>\n",
       "      <td>25.0</td>\n",
       "      <td>25.0</td>\n",
       "      <td>25.0</td>\n",
       "      <td>25.0</td>\n",
       "      <td>25.0</td>\n",
       "      <td>25</td>\n",
       "      <td>25</td>\n",
       "      <td>...</td>\n",
       "      <td>25</td>\n",
       "      <td>25.0</td>\n",
       "      <td>25</td>\n",
       "      <td>25</td>\n",
       "      <td>25.0</td>\n",
       "      <td>50</td>\n",
       "      <td>50</td>\n",
       "      <td>50</td>\n",
       "      <td>50</td>\n",
       "      <td>50</td>\n",
       "    </tr>\n",
       "    <tr>\n",
       "      <th>1</th>\n",
       "      <td>50.0</td>\n",
       "      <td>50.0</td>\n",
       "      <td></td>\n",
       "      <td>50.0</td>\n",
       "      <td>50.0</td>\n",
       "      <td>50.0</td>\n",
       "      <td>50.0</td>\n",
       "      <td>50.0</td>\n",
       "      <td></td>\n",
       "      <td></td>\n",
       "      <td>...</td>\n",
       "      <td></td>\n",
       "      <td>50.0</td>\n",
       "      <td></td>\n",
       "      <td></td>\n",
       "      <td>50.0</td>\n",
       "      <td></td>\n",
       "      <td></td>\n",
       "      <td></td>\n",
       "      <td></td>\n",
       "      <td></td>\n",
       "    </tr>\n",
       "  </tbody>\n",
       "</table>\n",
       "<p>2 rows × 21 columns</p>\n",
       "</div>"
      ],
      "text/plain": [
       "   Point_2  Point_3 Point_4  Point_8  Point_10  Point_11  Point_12  Point_15  \\\n",
       "0     25.0     25.0      25     25.0      25.0      25.0      25.0      25.0   \n",
       "1     50.0     50.0             50.0      50.0      50.0      50.0      50.0   \n",
       "\n",
       "  Point_16 Point_18   ...    Point_20 Point_21  Point_22 Point_23 Point_24  \\\n",
       "0       25       25   ...          25     25.0        25       25     25.0   \n",
       "1                     ...                 50.0                        50.0   \n",
       "\n",
       "   Point_26 Point_27 Point_28 Point_29 Point_31  \n",
       "0        50       50       50       50       50  \n",
       "1                                                \n",
       "\n",
       "[2 rows x 21 columns]"
      ]
     },
     "execution_count": 9,
     "metadata": {},
     "output_type": "execute_result"
    }
   ],
   "source": [
    "point_list(foldername=homedir_300s)"
   ]
  },
  {
   "cell_type": "markdown",
   "metadata": {
    "collapsed": true
   },
   "source": [
    "## Timetraces"
   ]
  },
  {
   "cell_type": "code",
   "execution_count": 13,
   "metadata": {
    "ExecuteTime": {
     "end_time": "2017-06-18T23:05:03.936756Z",
     "start_time": "2017-06-18T23:05:01.111251Z"
    },
    "collapsed": false
   },
   "outputs": [
    {
     "data": {
      "image/png": "[encoded data removed]",
      "text/plain": [
       "<matplotlib.figure.Figure at 0x7fa132fae940>"
      ]
     },
     "metadata": {},
     "output_type": "display_data"
    }
   ],
   "source": [
    "fig = time_trace_plot(foldername= homedir_30s, input_potential=[0, 50, 100], pointnumbers=[7], x_lim_min=0, y_lim_min=0, x_lim_max=5, y_lim_max=4, bin=10, show_changepoint=True)"
   ]
  },
  {
   "cell_type": "code",
   "execution_count": null,
   "metadata": {
    "collapsed": true
   },
   "outputs": [],
   "source": []
  }
 ],
 "metadata": {
  "kernelspec": {
   "display_name": "Python 3",
   "language": "python",
   "name": "python3"
  },
  "language_info": {
   "codemirror_mode": {
    "name": "ipython",
    "version": 3
   },
   "file_extension": ".py",
   "mimetype": "text/x-python",
   "name": "python",
   "nbconvert_exporter": "python",
   "pygments_lexer": "ipython3",
   "version": "3.6.0"
  },
  "toc": {
   "colors": {
    "hover_highlight": "#DAA520",
    "navigate_num": "#000000",
    "navigate_text": "#333333",
    "running_highlight": "#FF0000",
    "selected_highlight": "#FFD700",
    "sidebar_border": "#EEEEEE",
    "wrapper_background": "#FFFFFF"
   },
   "moveMenuLeft": true,
   "nav_menu": {
    "height": "102px",
    "width": "252px"
   },
   "navigate_menu": true,
   "number_sections": true,
   "sideBar": true,
   "threshold": 4,
   "toc_cell": false,
   "toc_section_display": "block",
   "toc_window_display": true,
   "widenNotebook": false
  }
 },
 "nbformat": 4,
 "nbformat_minor": 2
}
